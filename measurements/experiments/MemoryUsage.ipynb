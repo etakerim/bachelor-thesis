{
 "cells": [
  {
   "cell_type": "code",
   "execution_count": null,
   "id": "0670a8cc",
   "metadata": {},
   "outputs": [],
   "source": [
    "import pandas as pd\n",
    "import matplotlib.pyplot as plt\n",
    "import os.path\n",
    "import numpy as np\n",
    "\n",
    "FOLDER = 'memory-usage'\n",
    "mem = pd.read_csv(os.path.join(FOLDER, 'memory_usage_table.csv'))\n",
    "mem"
   ]
  },
  {
   "cell_type": "code",
   "execution_count": null,
   "id": "2d01ed5d",
   "metadata": {},
   "outputs": [],
   "source": [
    "# https://blog.espressif.com/esp32-programmers-memory-model-259444d89387\n",
    "# Heap je v RAM: celková veľkosť heap = DRAM size (320 kB) - .data (14,6kB) - .bss (41,2kB)\n",
    "with open(os.path.join(FOLDER, 'idf-size.txt'), 'r') as fr:\n",
    "    for line in fr:\n",
    "        print(line, end='')"
   ]
  },
  {
   "cell_type": "code",
   "execution_count": null,
   "id": "1a01addb",
   "metadata": {},
   "outputs": [],
   "source": [
    "pool = mem['Total'][0]\n",
    "buffer_sizes = pool - mem.iloc[:,3:].T\n",
    "\n",
    "print('Heap size:', pool)\n",
    "buffer_sizes"
   ]
  },
  {
   "cell_type": "code",
   "execution_count": null,
   "id": "3cb92ae9",
   "metadata": {},
   "outputs": [],
   "source": [
    "# Každý proces zvlášť 32 .. 1024\n",
    "fig, ax = plt.subplots(1, 1, figsize=(8, 6))\n",
    "\n",
    "processes = buffer_sizes.copy().T\n",
    "processes = (processes - processes.shift(1)).T / 1024\n",
    "ax.stackplot(processes.index, *[list(processes[i]) for i in processes.iloc[:,1:]])\n",
    "ax.axhline(y=(pool - buffer_sizes[0][1]) / 1024, color='r', linestyle='-')\n",
    "ax.set_xlabel('Veľkosť vyrovnávacej pamäte [B]')\n",
    "ax.set_ylabel('Celková obsadenosť haldy [kB]')\n",
    "ax.grid()\n",
    "ax.legend(['imu', 'fft & buffers', 'wifi', 'x', 'y', 'z', 'logger'], loc='upper left')\n",
    "#ax.set_title('Profil spotreby pamäti')\n",
    "\n",
    "plt.show()\n",
    "processes"
   ]
  },
  {
   "cell_type": "code",
   "execution_count": null,
   "id": "51da4e73",
   "metadata": {},
   "outputs": [],
   "source": [
    "summary = buffer_sizes[7] / 1024\n",
    "fig, ax = plt.subplots(1, 1, figsize=(7, 4))\n",
    "ax.plot(summary.index, summary, marker='o')\n",
    "ax.grid()\n",
    "ax.set_xlabel('Veľkosť vyrovnávacej pamäte [B]')\n",
    "ax.set_ylabel('Celková obsadenosť haldy [kB]')\n",
    "ax.axhline(y=pool / 1024, color='r', linestyle='-')\n",
    "print('Obsadená pamäť [kB]\\n', summary)\n",
    "\n",
    "plt.show()\n",
    "print('Obsadená pamäť [%]\\n', summary)"
   ]
  },
  {
   "cell_type": "code",
   "execution_count": null,
   "id": "0330c207",
   "metadata": {},
   "outputs": [],
   "source": [
    "fig, ax = plt.subplots(1, 1, figsize=(7, 4))\n",
    "summary = buffer_sizes[7] / pool * 100\n",
    "ax.plot(summary.index, summary, marker='o')\n",
    "ax.grid()\n",
    "ax.set_xlabel('Veľkosť vyrovnávacej pamäte [B]')\n",
    "ax.set_ylabel('Celková obsadenosť haldy [%]')\n",
    "ax.axhline(y=100, color='r', linestyle='-')"
   ]
  },
  {
   "cell_type": "code",
   "execution_count": null,
   "id": "cb21785d",
   "metadata": {},
   "outputs": [],
   "source": [
    "fig, ax = plt.subplots(1, 1, figsize=(8, 6))\n",
    "\n",
    "ax.stackplot(processes.index, *[list(processes[i]) for i in processes.iloc[:,4:7]])\n",
    "ax.set_xlabel('Veľkosť vyrovnávacej pamäte [B]')\n",
    "ax.set_ylabel('Obsadená pamäť [kB]')\n",
    "ax.grid()\n",
    "ax.legend(['x', 'y', 'z'], loc='upper left')\n",
    "#ax[1].set_title('Profil spotreby pamäti úlohami')"
   ]
  },
  {
   "cell_type": "code",
   "execution_count": null,
   "id": "af9f961c",
   "metadata": {},
   "outputs": [],
   "source": [
    "sizes = buffer_sizes.copy().T\n",
    "processes = (sizes - sizes.shift(1)).T / 1024\n",
    "processes.iloc[:,1:].T"
   ]
  }
 ],
 "metadata": {
  "kernelspec": {
   "display_name": "Python 3 (ipykernel)",
   "language": "python",
   "name": "python3"
  },
  "language_info": {
   "codemirror_mode": {
    "name": "ipython",
    "version": 3
   },
   "file_extension": ".py",
   "mimetype": "text/x-python",
   "name": "python",
   "nbconvert_exporter": "python",
   "pygments_lexer": "ipython3",
   "version": "3.10.2"
  }
 },
 "nbformat": 4,
 "nbformat_minor": 5
}
