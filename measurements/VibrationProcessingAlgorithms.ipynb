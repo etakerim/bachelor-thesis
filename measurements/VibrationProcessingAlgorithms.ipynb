{
 "cells": [
  {
   "cell_type": "markdown",
   "id": "36576437",
   "metadata": {},
   "source": [
    "## Modely na spracovanie signálov z vibrácií\n",
    "\n",
    "Modely na monitorovanie vibrácií na základe analyzovaných algoritmov. Meranie úspešnosti na synteticky generovaných dátach.\n",
    "\n",
    "### Toky v návrhu riešenia\n",
    "1. Frekvenčná analýza\n",
    "2. Online štatistiky v čase + Identifikácia náhlych zmien\n",
    "3. Kinematická analýza\n",
    "4. Podvzorkovanie\n",
    "\n",
    "\n",
    "#### Algoritmy na rozpoznávanie špičiek\n",
    "za aplikovania vyhladzovania cez priemerovací filter\n",
    "\n",
    "0. Detekcia špičiek prahovou úrovňou\n",
    "1. Význačnosť vrchola spomedzi susedov\n",
    "2. Algoritmus prechodu nulou do záporu\n",
    "3. Algoritmus horského turistu\n",
    "\n",
    "#### Štatistiky v časovej doméne (Rozpínajúce vs. Posuvné okno)\n",
    "- Amplitúda špička-špička\n",
    "- Kvadratický priemer (RMS)\n",
    "- Výberový priemer\n",
    "- Medián, Horný a dolný kvartil\n",
    "- Výberový rozptyl  (Welfordov algoritmus)\n",
    "- Smerodajná odchýlka\n",
    "- Priemerná absolútna odchýlka \n",
    "- Mediánová absolútna odchýlka \n",
    "- Medzikvartilové rozpätie\n",
    "- Korelácia\n",
    "\n",
    "#### Rozklad vo frekvenčnej doméne\n",
    "- Fouriérová transformácia - FFT\n",
    "- DCT-II, DCT-IV, MDCT\n",
    "- Oknové funkcie: obdĺžníkové, Bartlettovo, Hannovo, Hammingovo a Blackmanovo okno\n",
    "- Welchova metóda\n",
    "\n",
    "#### Numerická integrácia pre získanie rýchlosti a polohy\n",
    "- Obdlžnikové, Lichobežníkovo, Simsonovo pravidlo na úsekoch\n",
    "- Korekcia obálkami: B-spline / Amplitúdová obálka (ako mean filter)"
   ]
  },
  {
   "cell_type": "code",
   "execution_count": null,
   "id": "67b1ea7c",
   "metadata": {},
   "outputs": [],
   "source": [
    "import numpy as np\n",
    "from scipy.signal.windows import boxcar, bartlett, hann, hamming, blackman\n",
    "from sklearn.metrics import auc\n",
    "import matplotlib.pyplot as plt\n",
    "from typing import Tuple\n",
    "import json\n",
    "from functools import partial\n",
    "\n",
    "TimeSeries = Tuple[np.array, np.array]"
   ]
  },
  {
   "cell_type": "markdown",
   "id": "3634529f",
   "metadata": {},
   "source": [
    "### Detekcia špičiek prahovou úrovňou\n",
    "- `y`: postupnosť vzoriek\n",
    "- `t`: prahová úroveň. Rozsah: $[0, \\max{\\{y\\}}]$"
   ]
  },
  {
   "cell_type": "code",
   "execution_count": null,
   "id": "73aaa74c",
   "metadata": {},
   "outputs": [],
   "source": [
    "def find_peaks_threshold(y: np.array, t: float):\n",
    "    return np.where(y >= t)"
   ]
  },
  {
   "cell_type": "markdown",
   "id": "b3de38d7",
   "metadata": {},
   "source": [
    "### Význačnosť vrchola spomedzi susedov\n",
    "- `y`: postupnosť vzoriek\n",
    "- `k`: počet najbližších uvažovaných susedov na každú zo strán od vrchola $[i-k; i+k]$. Rozsah: $[1, \\mathrm{length}(y)\\,/\\, 2]$\n",
    "- `e`: relatívna tolerancia vyššieho bodu v susedstve od vrchola. Rozsah: $[0, \\max{\\{y\\}}]$\n",
    "- `h_rel`: relatívna výška vrcholu v susedstve. Rozsah: $[0, \\max{\\{y\\}}]$\n",
    "- `h`: Absolútna amplitúda. Rozsah: $[0, \\max{\\{y\\}}]$"
   ]
  },
  {
   "cell_type": "code",
   "execution_count": null,
   "id": "0af74689",
   "metadata": {},
   "outputs": [],
   "source": [
    "def find_peaks_neighbours(y: np.array, k: int, e: float, h_rel: float, h: float) -> list:\n",
    "    peaks = []\n",
    "    for i in range(len(y)):\n",
    "        if abs(y[i]) >= h:\n",
    "            possible_peak = True\n",
    "            a = max(i - k, 0)\n",
    "            b = min(i + k, len(y))\n",
    "            valley = y[a]\n",
    "\n",
    "            for j in range(a, b):\n",
    "                if i != j:\n",
    "                    if y[j] - y[i] > e:\n",
    "                        possible_peak = False\n",
    "                    if y[j] < valley:\n",
    "                        valley = y[j]\n",
    "\n",
    "            if possible_peak is True and y[i] - valley > h_rel:\n",
    "                peaks.append(i)\n",
    "    return peaks"
   ]
  },
  {
   "cell_type": "markdown",
   "id": "ef53a73c",
   "metadata": {},
   "source": [
    "### Algoritmus prechodu nulou do záporu\n",
    "- `y`: postupnosť vzoriek\n",
    "- `k`: dlžka sečnice $[i-k; i+k]$. Rozsah: $[1, \\mathrm{length}(y)\\,/\\, 2]$\n",
    "- `slope`: prahová strmosť kopca. $slope >= 0$"
   ]
  },
  {
   "cell_type": "code",
   "execution_count": null,
   "id": "5babfae9",
   "metadata": {},
   "outputs": [],
   "source": [
    "def find_peaks_zero_crossing(y: np.array, k: int, slope: float) -> list:\n",
    "    peaks = []\n",
    "\n",
    "    for i in range(k, len(y) - k):\n",
    "        if ((y[i + k] - y[i]) < 0 and (y[i] - y[i - k]) > 0 and\n",
    "                abs(y[i + k] - y[i]) >= slope and abs(y[i] - y[i - k]) >= slope):\n",
    "            peaks.append(i)\n",
    "\n",
    "    return peaks"
   ]
  },
  {
   "cell_type": "markdown",
   "id": "96853f39",
   "metadata": {},
   "source": [
    "### Algoritmus horského turistu\n",
    "- `y`: postupnosť vzoriek\n",
    "- `tolerance`: prahová úroveň vo vertikálnej osi. Rozsah: $[0, \\max{\\{y\\}}]$\n",
    "- `hole`: prahová úroveň v horizontálnej osi. Rozsah: $[0, \\mathrm{length}(y)]$\n",
    "- `prominence`: relatívna výška oproti predošlej navštívenej doline. Rozsah: $[0, \\max{\\{y\\}}]$\n",
    "- `isolation`: vzdialenosť k najbližšiemu skoršiemu vrcholu. Rozsah: $[0, \\mathrm{length}(y)]$"
   ]
  },
  {
   "cell_type": "code",
   "execution_count": null,
   "id": "9df9a46b",
   "metadata": {},
   "outputs": [],
   "source": [
    "def find_peaks_hill_walker(\n",
    "        y: np.array, tolerance: float, hole: float, prominence: float, isolation: float) -> list:\n",
    "    peaks = []\n",
    "    i_change = 0\n",
    "    y_valley = 0\n",
    "    possible_change = False\n",
    "    uphill = bool((y[1] - y[0]) >= 0)\n",
    "    \n",
    "    for i in range(1, len(y)):\n",
    "        y_step = y[i] - y[i - 1]\n",
    "        slope = bool(y_step >= 0)\n",
    "\n",
    "        if possible_change is False and uphill != slope:\n",
    "            possible_change = True\n",
    "            i_change = i - 1\n",
    "        elif possible_change is True and uphill == slope:\n",
    "            possible_change = False\n",
    "        \n",
    "        if (possible_change is True and\n",
    "                uphill != slope and\n",
    "                abs(i - i_change) > hole and\n",
    "                abs(y[i] - y[i_change]) > tolerance):\n",
    "            \n",
    "            possible_change = False\n",
    "            prev_uphill = uphill\n",
    "            uphill = slope\n",
    "\n",
    "            if prev_uphill is False and uphill is True:\n",
    "                y_valley = y[i_change]\n",
    "\n",
    "            elif (prev_uphill is True and \n",
    "                      uphill is False and \n",
    "                      abs(y[i - hole] - y_valley) > prominence):\n",
    "                if len(peaks) < 1 or (len(peaks) >= 1 and i_change - peaks[-1] > isolation):\n",
    "                    y_peak = y[i_change]\n",
    "                    peaks.append(i_change)\n",
    "                  \n",
    "    return peaks"
   ]
  },
  {
   "cell_type": "markdown",
   "id": "afeb6012",
   "metadata": {},
   "source": [
    "### Generovanie sínusoidy\n",
    "s frekvenciou, trvaním, pri vzorkovacej frekvencii"
   ]
  },
  {
   "cell_type": "code",
   "execution_count": null,
   "id": "2e0b4fb7",
   "metadata": {},
   "outputs": [],
   "source": [
    "def sine_generate(f: int, t: float, fs: int) -> TimeSeries:\n",
    "    N = fs * t                                         # počet vzoriek\n",
    "    Ts = 1 / fs                                        # interval vzorkovania\n",
    "    t_series = Ts * np.arange(N)\n",
    "    return t_series, np.sin(2 * np.pi * f * t_series)  # y = A * sin(2*pi*t)\n",
    "\n",
    "def plot_sinusoid(x, y, p, ax):\n",
    "    ax.plot(x, y)\n",
    "    if len(p) > 0: \n",
    "        ax.plot(x[p], y[p], 'o', color='r')\n",
    "    ax.grid()"
   ]
  },
  {
   "cell_type": "code",
   "execution_count": null,
   "id": "4a4e2b40",
   "metadata": {},
   "outputs": [],
   "source": [
    "x, y = sine_generate(10, 1, 200)\n",
    "fig, axes = plt.subplots(3, 1, figsize=(20, 10))\n",
    "\n",
    "p = find_peaks_neighbours(y, k=2, e=0, h_rel=0, h=0)\n",
    "print('find_peaks_neighbours:\\t', p)\n",
    "plot_sinusoid(x, y, p, axes[0])\n",
    "\n",
    "p = find_peaks_zero_crossing(y, k=1, slope=0)\n",
    "print('find_peaks_zero_crossing:', p)\n",
    "plot_sinusoid(x, y, p, axes[1])\n",
    "\n",
    "p = find_peaks_hill_walker(y, tolerance=0, hole=0, prominence=0, isolation=0)\n",
    "print('find_peaks_hill_walker:\\t', p)\n",
    "plot_sinusoid(x, y, p, axes[2])"
   ]
  },
  {
   "cell_type": "markdown",
   "id": "db4d0c10",
   "metadata": {},
   "source": [
    "### Oknovanie (1) a transformácia do frekvenčnej domény (2)\n",
    "- `y`: postupnosť vzoriek\n",
    "- `t`: časové značky v sekundách pre jednotlivé vzorky\n",
    "- `window`: oknová funkcia. Rozsah: boxcar, bartlett, hann, hamming, blackman\n",
    "- `Wn`: dĺžka posuvného okna v počte vzoriek. Rozsah: $[1, \\mathrm{length}(y)]$\n",
    "- `overlap`: pomer prelínania posuvných okien. Rozsah: $[0, 0.99]$\n",
    "- `fs`: vzorkovacia frekvencia v Hz\n",
    "- `mode`: spôsob transformácie magnitúdového spektra (linear vs. log)"
   ]
  },
  {
   "cell_type": "code",
   "execution_count": null,
   "id": "29f8a603",
   "metadata": {},
   "outputs": [],
   "source": [
    "def fft_transform(v):\n",
    "    elements = np.fft.fft(v)\n",
    "    return np.absolute(elements)[:len(elements)//2]\n",
    "\n",
    "\n",
    "def fft_log_transform(v):\n",
    "    elements = np.fft.fft(v)\n",
    "    yf = np.absolute(elements)[:len(elements)//2]\n",
    "    return 20 * np.log10(yf / yf.max())\n",
    "\n",
    "\n",
    "def frequency_spectrum(t: np.array, y: np.array, fs: int, window, Wn: int, overlap: float, mode='linear'):\n",
    "    step = Wn - int(Wn * overlap)\n",
    "    Wi = np.arange(0, len(y) - Wn, step)\n",
    "    transform = fft_log_transform if mode == 'log' else fft_transform\n",
    "    \n",
    "    x = t[Wi]\n",
    "    f = np.fft.fftfreq(Wn, 1/fs)[:Wn//2]\n",
    "    f_mag = np.asarray([transform(y[i:i+Wn] * window(Wn)) for i in Wi])\n",
    "     \n",
    "    return {\n",
    "        'fs': fs,\n",
    "        'Wn': Wn,\n",
    "        'overlap': overlap,\n",
    "        'resolution': fs / Wn,\n",
    "        'bins': f,\n",
    "        't_windows': x,\n",
    "        'magnitudes': f_mag\n",
    "    }"
   ]
  },
  {
   "cell_type": "markdown",
   "id": "a9c152e0",
   "metadata": {},
   "source": [
    "### Hľadanie špičiek v každom posuvnom okne"
   ]
  },
  {
   "cell_type": "code",
   "execution_count": null,
   "id": "f77847ca",
   "metadata": {},
   "outputs": [],
   "source": [
    "def peaks_indices_windowed(peak_find, magnitudes):\n",
    "    return [peak_find(window) for window in magnitudes]\n",
    "\n",
    "def peak_freqs_windowed(i_peaks, bins, resolution):\n",
    "    return [list(zip(bins[p], bins[p] + resolution)) for p in i_peaks] "
   ]
  },
  {
   "cell_type": "markdown",
   "id": "14fa6ba1",
   "metadata": {},
   "source": [
    "### Vykreslenie grafu spektrálnej magnitúdy pre posuvné okná zvlášť"
   ]
  },
  {
   "cell_type": "code",
   "execution_count": null,
   "id": "4512acd5",
   "metadata": {},
   "outputs": [],
   "source": [
    "def plot_spectra_slices(bins, magnitudes, peaks=[]):\n",
    "    fig, axes = plt.subplots(len(magnitudes), 1, figsize=(20, 10))\n",
    "    for i, amp in enumerate(magnitudes):\n",
    "        p = peaks[i] if len(peaks) > i else []\n",
    "        plot_sinusoid(bins, amp, p, axes[i])\n",
    "        # axes[i].set_xlim(-5, 5)"
   ]
  },
  {
   "cell_type": "markdown",
   "id": "e8ce01e4",
   "metadata": {},
   "source": [
    "### Prepočet poradia frekvenčného vedierka na frekvencie v Hz pre skutočné a predikované špičky"
   ]
  },
  {
   "cell_type": "code",
   "execution_count": null,
   "id": "955489cc",
   "metadata": {},
   "outputs": [],
   "source": [
    "def found_peak_freqs(truth, peaks, spectrum):\n",
    "    f_truth = peak_freqs_windowed(truth, spectrum['bins'], spectrum['resolution'])\n",
    "    f_peaks = peak_freqs_windowed(peaks, spectrum['bins'], spectrum['resolution'])\n",
    "\n",
    "    for t_win, p_win in zip(f_truth, f_peaks):\n",
    "        print(\"Okno:\")\n",
    "        print('\\tI:', ', '.join([f'<{a:.2f}-{b:.2f}>' for a, b in t_win]))\n",
    "        print('\\tO:', ', '.join([f'<{a:.2f}-{b:.2f}>' for a, b in p_win]))  "
   ]
  },
  {
   "cell_type": "markdown",
   "id": "cb244bb1",
   "metadata": {},
   "source": [
    "### Metriky pre binárny klasifikátor pre okná zvlášť, s mikro a makro priemerovaním"
   ]
  },
  {
   "cell_type": "code",
   "execution_count": null,
   "id": "2a6574ea",
   "metadata": {},
   "outputs": [],
   "source": [
    "def ground_truth(rules, windows, resolution):\n",
    "    labels = []\n",
    "    for start in windows:\n",
    "        freqs = []\n",
    "        for sine in rules.get('sines', []):\n",
    "            if (sine['t0'] <= start <= sine['tn'] or \n",
    "                    sine['t0'] <= start + spectrum['Wn'] <= sine['tn']):\n",
    "                freqs.append(int(sine['freq'] / resolution))\n",
    "        labels.append(freqs)\n",
    "    return labels\n",
    "\n",
    "def metrics(bins, y_truth, y_predict):\n",
    "    stats = []\n",
    "\n",
    "    for win_truth, win_predict in zip(y_truth, y_predict):\n",
    "        truth = np.full(len(bins), False)\n",
    "        predict = np.full(len(bins), False)\n",
    "        \n",
    "        truth[win_truth] = True\n",
    "        predict[win_predict] = True\n",
    "        \n",
    "        tp = sum([int(x and y) for x, y in zip(truth, predict)])\n",
    "        tn = sum([int(not x and not y) for x, y in zip(truth, predict)])\n",
    "        fp = sum([int(not x and y) for x, y in zip(truth, predict)])\n",
    "        fn = sum([int(x and not y) for x, y in zip(truth, predict)])\n",
    "        \n",
    "        tpr = tp / (tp + fn)\n",
    "        tnr = tn / (tn + fp)\n",
    "        ppv = 0\n",
    "        if tp + fp != 0:\n",
    "            ppv = tp / (tp + fp)\n",
    "        acc = (tp + tn) / (tp + tn + fp + fn)\n",
    "        fpr = fp / (fp + tn)\n",
    "            \n",
    "        stats.append({\n",
    "            'TP': tp, 'TN': tn, 'FP': fp, 'FN': fn, \n",
    "            'TPR': tpr, 'TNR': tnr,  'PPV': ppv,\n",
    "            'ACC': acc, 'FPR': fpr\n",
    "        })\n",
    "\n",
    "    return stats\n",
    "\n",
    "def metric_macro_average(metrics):\n",
    "    averages = {\n",
    "        'TPR': 0, 'TNR': 0,  'PPV': 0, 'ACC': 0, 'FPR': 0\n",
    "    }\n",
    "    for win_metrics in metrics:\n",
    "        for k in averages.keys():\n",
    "            averages[k] += win_metrics[k]\n",
    "        \n",
    "    for k in averages.keys():\n",
    "        averages[k] /= len(metrics)\n",
    "        \n",
    "    return averages\n",
    "\n",
    "\n",
    "def metric_micro_average(metrics):\n",
    "    averages = {\n",
    "        'TP': 0, 'TN': 0, 'FP': 0, 'FN': 0, \n",
    "    }\n",
    "    for win_metrics in metrics:\n",
    "        for k in averages.keys():\n",
    "            averages[k] += win_metrics[k]\n",
    "\n",
    "    tp, tn, fp, fn = (\n",
    "        averages['TP'], averages['TN'], averages['FP'], averages['FN']\n",
    "    )\n",
    "    tpr = tp / (tp + fn)\n",
    "    tnr = tn / (tn + fp)\n",
    "    ppv = 0\n",
    "    if tp + fp != 0:\n",
    "        ppv = tp / (tp + fp)\n",
    "    acc = (tp + tn) / (tp + tn + fp + fn)\n",
    "    fpr = fp / (fp + tn)\n",
    "    \n",
    "    return {\n",
    "        'TPR': tpr, 'TNR': tnr, 'PPV': ppv,\n",
    "        'ACC': acc, 'FPR': fpr\n",
    "    }"
   ]
  },
  {
   "cell_type": "markdown",
   "id": "d2e8c9e9",
   "metadata": {},
   "source": [
    "### Generovanie sinusoidy s f = 15 Hz, trvaním t = 1s pri fs = 250Hz"
   ]
  },
  {
   "cell_type": "code",
   "execution_count": null,
   "id": "2dd39a39",
   "metadata": {},
   "outputs": [],
   "source": [
    "plt.rcParams['figure.figsize'] = (10, 3)\n",
    "rec = {\n",
    "    'duration': 1,\n",
    "    'f_sampling': 250,\n",
    "    'sines': [{'freq': 15, 'amp': 1, 't0': 0, 'tn': 1}],\n",
    "}\n",
    "t, y = sine_generate(f=rec['sines'][0]['freq'], t=rec['duration'], fs=rec['f_sampling'])\n",
    "plt.plot(t, y)\n",
    "plt.show()"
   ]
  },
  {
   "cell_type": "markdown",
   "id": "ac1704ba",
   "metadata": {},
   "source": [
    "### Hľadanie špičiek spomedzi najbližších susedov vo frekvenčnej doméne na sínusoide s f = 20 Hz"
   ]
  },
  {
   "cell_type": "code",
   "execution_count": null,
   "id": "abfc25a7",
   "metadata": {},
   "outputs": [],
   "source": [
    "spectrum = frequency_spectrum(t, y, fs=rec['f_sampling'], window=hann, Wn=63, overlap=0, mode='linear')\n",
    "func = partial(find_peaks_neighbours, k=3, e=0, h_rel=0, h=0)\n",
    "\n",
    "peaks = peaks_indices_windowed(func, spectrum['magnitudes'])\n",
    "plot_spectra_slices(spectrum['bins'], spectrum['magnitudes'], peaks)\n",
    "\n",
    "truth = ground_truth(rec, spectrum['t_windows'], spectrum['resolution'])\n",
    "found_peak_freqs(truth, peaks, spectrum)"
   ]
  },
  {
   "cell_type": "markdown",
   "id": "9f33b08a",
   "metadata": {},
   "source": [
    "### Vyhodnotenie klasifikácie špičiek"
   ]
  },
  {
   "cell_type": "code",
   "execution_count": null,
   "id": "36d75bc6",
   "metadata": {},
   "outputs": [],
   "source": [
    "m = metrics(spectrum['bins'], truth, peaks)\n",
    "from pprint import pprint\n",
    "print('Podľa okna:')\n",
    "pprint(m)\n",
    "print('Makro:', metric_macro_average(m))\n",
    "print('Mikro:', metric_micro_average(m))"
   ]
  },
  {
   "cell_type": "markdown",
   "id": "6657adf7",
   "metadata": {},
   "source": [
    "### Hľadanie špičiek spomedzi najbližších susedov vo frekvenčnej doméne \n",
    "sínusoida s f = 8 Hz, t = 4 s, fs = 100 Hz v logaritmickej mierke"
   ]
  },
  {
   "cell_type": "code",
   "execution_count": null,
   "id": "9a9eedd5",
   "metadata": {},
   "outputs": [],
   "source": [
    "rec = {\n",
    "    'duration': 4,\n",
    "    'f_sampling': 100,\n",
    "    'sines': [{'freq': 8, 'amp': 1, 't0': 0, 'tn': 4}],\n",
    "}\n",
    "t, y = sine_generate(f=rec['sines'][0]['freq'], t=rec['duration'], fs=rec['f_sampling'])\n",
    "\n",
    "spectrum = frequency_spectrum(t, y, fs=rec['f_sampling'], window=hann, Wn=127, overlap=0.25, mode='log')\n",
    "peaks = peaks_indices_windowed(\n",
    "    peak_find=partial(find_peaks_neighbours, k=3, e=0, h_rel=0, h=0),\n",
    "    magnitudes=spectrum['magnitudes']\n",
    ")\n",
    "plot_spectra_slices(spectrum['bins'], spectrum['magnitudes'], peaks)\n",
    "\n",
    "truth = ground_truth(rec, spectrum['t_windows'], spectrum['resolution'])\n",
    "found_peak_freqs(truth, peaks, spectrum)"
   ]
  },
  {
   "cell_type": "markdown",
   "id": "1008f56e",
   "metadata": {},
   "source": [
    "### Generovanie signálu s normálne rozdeleným šumom"
   ]
  },
  {
   "cell_type": "code",
   "execution_count": null,
   "id": "25148198",
   "metadata": {},
   "outputs": [],
   "source": [
    "plt.rcParams['figure.figsize'] = (10, 3)\n",
    "y_noisy = y + np.random.normal(loc=0, scale=0.2, size=len(y))\n",
    "plt.plot(t, y_noisy)\n",
    "plt.grid()\n",
    "plt.show()"
   ]
  },
  {
   "cell_type": "markdown",
   "id": "ca484547",
   "metadata": {},
   "source": [
    "### Generátor syntetického signálu so šumom zo sinusioíd\n",
    "Pravidlá na opis požadovaného signálu musia dodržať nasledujúcu štruktúru:\n",
    "```json\n",
    "{\n",
    "    \"duration\": 1,\n",
    "    \"f_sampling\": 476,\n",
    "    \"sines\": [\n",
    "        {\"freq\": 5, \"amp\": 1.5, \"t0\": 0, \"tn\": 0.5}\n",
    "    ],\n",
    "    \"noises\": [\n",
    "        {\"amp\": 0.2, \"t0\": 0, \"tn\": 1.5}\n",
    "    ]\n",
    "}\n",
    "```"
   ]
  },
  {
   "cell_type": "code",
   "execution_count": null,
   "id": "23807076",
   "metadata": {},
   "outputs": [],
   "source": [
    "def s_offsets(signal, rules):\n",
    "    lower = int(signal['t0'] * rules['f_sampling'])\n",
    "    upper = int((rules['duration'] - signal['tn']) * rules['f_sampling'])\n",
    "    return lower, upper\n",
    "\n",
    "def s_duration(signal, rules):\n",
    "    return int(np.ceil((signal['tn'] - signal['t0']) * rules['f_sampling']))\n",
    "\n",
    "\n",
    "def signal_rules(filename: str) -> dict:\n",
    "    with open(filename, 'r') as fsource:\n",
    "        return json.load(fsource)\n",
    "\n",
    "\n",
    "def signal_generate(rules: dict) -> TimeSeries:\n",
    "    N = rules['f_sampling'] * rules['duration']                                         \n",
    "    Ts = 1 / rules['f_sampling']\n",
    "    t_series = Ts * np.arange(N)\n",
    "    signal = np.zeros(N)\n",
    "    \n",
    "    for sine in rules.get('sines', []):\n",
    "        duration_samples = s_duration(sine, rules)\n",
    "        t_part = Ts * np.arange(duration_samples)\n",
    "        s = sine['amp'] * np.sin(2 * np.pi * sine['freq'] * t_part)\n",
    "        signal += np.pad(s, pad_width=s_offsets(sine, rules), constant_values=0)[:len(t_series)]\n",
    "\n",
    "    for noise in rules.get('noises', []):\n",
    "        duration_samples = s_duration(noise, rules)\n",
    "        s = np.random.normal(loc=0, scale=noise['amp'], size=duration_samples)\n",
    "        signal += np.pad(s, pad_width=s_offsets(noise, rules), constant_values=0)[:len(t_series)]\n",
    "        \n",
    "    return t_series, signal\n",
    "\n",
    "\n",
    "def signal_threshold(y: np.array, level: float) -> np.array:\n",
    "    return np.where(abs(y) < level, 0, y)"
   ]
  },
  {
   "cell_type": "markdown",
   "id": "63a23cc7",
   "metadata": {},
   "source": [
    "### Vyhladzovanie signálu a oknovaného frekvenčného spektra"
   ]
  },
  {
   "cell_type": "code",
   "execution_count": null,
   "id": "093d5f04",
   "metadata": {},
   "outputs": [],
   "source": [
    "def smooth_signal(t, y, window, k: int):\n",
    "    kernel = window(k) / k\n",
    "    return t[k - 1:], np.convolve(y, kernel, 'valid')\n",
    "\n",
    "def smooth_spectra(t, y, window, k: int):\n",
    "    kernel = window(k) / k\n",
    "    return t[k - 1:], [np.convolve(block, kernel, 'valid') for block in y]"
   ]
  },
  {
   "cell_type": "markdown",
   "id": "f7363a04",
   "metadata": {},
   "source": [
    "### Vzorový syntetický signál"
   ]
  },
  {
   "cell_type": "code",
   "execution_count": null,
   "id": "f8f70af5",
   "metadata": {},
   "outputs": [],
   "source": [
    "# Pravidlá na poskladanie tónov\n",
    "recording = {\n",
    "    'duration': 5,\n",
    "    'f_sampling': 476,\n",
    "    'sines': [\n",
    "        {'freq': 5, 'amp': 1.5, 't0': 1, 'tn': 3.5},\n",
    "        {'freq': 30, 'amp': 1, 't0': 0, 'tn': 5}\n",
    "    ],\n",
    "    'noises': [\n",
    "        {'amp': 0.2, 't0': 0, 'tn': 1.5}\n",
    "    ]\n",
    "}\n",
    "# Prípadne načítanie pravidiel zo súboru\n",
    "recording = signal_rules('datasets/synth-signal/rec.json')\n",
    "print(recording)\n",
    "\n",
    "# Vzorkovaný signál podľa popisu\n",
    "t, y = signal_generate(recording)\n",
    "# Ponechanie vzoriek nad prahovú magnitúdu a vynulovanie ostatných\n",
    "y_event = signal_threshold(y, 0.8)\n",
    "# Vyhladenie signálu so zvolenou okovou funkciou a veľkosťou kernelu\n",
    "t_s, y_s = smooth_signal(t, y_event, boxcar, k=10)\n",
    "\n",
    "# Vykreslenie grafu\n",
    "plt.rcParams['figure.figsize'] = (20, 10)\n",
    "fig, axes = plt.subplots(3, 1)\n",
    "axes[0].set_title('Syntetický signál so šumom')\n",
    "axes[0].set_ylabel('Amplitúda')\n",
    "axes[0].plot(t, y)\n",
    "axes[0].grid()\n",
    "\n",
    "axes[1].set_title('Ponechanie najvyšších magnitúd y > 0.8')\n",
    "axes[1].plot(t, y_event)\n",
    "axes[1].set_ylabel('Amplitúda')\n",
    "axes[1].grid()\n",
    "\n",
    "axes[2].set_title('Vyhladenie udalostí')\n",
    "axes[2].plot(t_s, y_s)\n",
    "axes[2].set_ylabel('Amplitúda')\n",
    "axes[2].set_xlabel('Čas [s]')\n",
    "axes[2].grid()\n",
    "plt.show()"
   ]
  },
  {
   "cell_type": "code",
   "execution_count": null,
   "id": "1b805401",
   "metadata": {},
   "outputs": [],
   "source": [
    "plt.rcParams['figure.figsize'] = (20, 5)\n",
    "fig, axes = plt.subplots(1, 3)\n",
    "axes[0].hist(y, bins=100)\n",
    "axes[1].hist(y_event, bins=100)\n",
    "axes[2].hist(y_s, bins=100)\n",
    "plt.show()"
   ]
  },
  {
   "cell_type": "markdown",
   "id": "70ff3308",
   "metadata": {},
   "source": [
    "### Detekcia špičiek v signále so šumom manuálnym ladením hyperparametrov"
   ]
  },
  {
   "cell_type": "code",
   "execution_count": null,
   "id": "d39a8384",
   "metadata": {},
   "outputs": [],
   "source": [
    "t, y = signal_generate(recording)\n",
    "y = signal_threshold(y, 0.8) \n",
    "\n",
    "spectrum = frequency_spectrum(t, y, fs=recording['f_sampling'], window=hann, Wn=511, overlap=0.5, mode='linear')\n",
    "#t, y = smooth_spectra(t, y, boxcar, 10)\n",
    "\n",
    "func = partial(find_peaks_neighbours, k=20, e=0, h_rel=50, h=0)\n",
    "# func = partial(find_peaks_zero_crossing, k=1, slope=8)\n",
    "# func = partial(find_peaks_hill_walker, tolerance=0, hole=0, prominence=30, isolation=5)\n",
    "\n",
    "peaks = peaks_indices_windowed(func, spectrum['magnitudes'])\n",
    "plot_spectra_slices(spectrum['bins'], spectrum['magnitudes'], peaks)\n",
    "\n",
    "truth = ground_truth(recording, spectrum['t_windows'], spectrum['resolution'])\n",
    "m = metrics(spectrum['bins'], truth, peaks)\n",
    "\n",
    "print('Macro:', metric_macro_average(m))\n",
    "print('Micro:', metric_micro_average(m))"
   ]
  },
  {
   "cell_type": "markdown",
   "id": "ee74b4d9",
   "metadata": {},
   "source": [
    "### ROC krivka"
   ]
  },
  {
   "cell_type": "code",
   "execution_count": null,
   "id": "c9ec98a1",
   "metadata": {},
   "outputs": [],
   "source": [
    "def grid_search(bins, truth, algorithm, *args):\n",
    "    TPR = []\n",
    "    FPR = []\n",
    "    for params in np.array(np.meshgrid(*args)).T.reshape(-1, len(args)):\n",
    "        peaks = algorithm(*params)\n",
    "        m = metric_macro_average(metrics(bins, truth, peaks))\n",
    "        \n",
    "        TPR.append(m['TPR'])\n",
    "        FPR.append(m['FPR'])\n",
    "        \n",
    "    TPR.sort()\n",
    "    FPR.sort()\n",
    "    return TPR, FPR\n",
    "\n",
    "\n",
    "def roc_curve(tpr, fpr):\n",
    "    plt.rcParams['figure.figsize'] = (4, 4)\n",
    "    # plt.scatter(fpr, tpr)\n",
    "    plt.plot(fpr, tpr)\n",
    "    plt.xlim(0, 1)\n",
    "    plt.ylim(0, 1)\n",
    "\n",
    "    return auc(fpr, tpr)"
   ]
  },
  {
   "cell_type": "code",
   "execution_count": null,
   "id": "f97d8148",
   "metadata": {},
   "outputs": [],
   "source": [
    "t, y = signal_generate(recording)\n",
    "\n",
    "spectrum = frequency_spectrum(t, y, fs=recording['f_sampling'], window=hann, Wn=255, overlap=0.5, mode='linear')\n",
    "truth = ground_truth(recording, spectrum['t_windows'], spectrum['resolution'])"
   ]
  },
  {
   "cell_type": "markdown",
   "id": "be57c162",
   "metadata": {},
   "source": [
    "### ROC: význačnosť vrchola spomedzi susedov"
   ]
  },
  {
   "cell_type": "code",
   "execution_count": null,
   "id": "3f62a94f",
   "metadata": {},
   "outputs": [],
   "source": [
    "n = 16 #len(spectrum['bins']) // 4\n",
    "K = np.arange(3, n, 4)\n",
    "# Možno previesť do relatívnych čísel vzhľadom na magnitúdy v okne\n",
    "E = np.linspace(0, np.max(spectrum['magnitudes']) * 0.5, 5)\n",
    "H = np.linspace(0, np.max(spectrum['magnitudes']) * 0.8, 5)\n",
    "print('k=', K); print('e=', E); print('h_rel=', H)\n",
    "\n",
    "def algo_no1(k, e, h_rel):\n",
    "    f = partial(find_peaks_neighbours, k=int(k), e=int(e), h_rel=h_rel, h=0)\n",
    "    return peaks_indices_windowed(f, spectrum['magnitudes'])\n",
    "\n",
    "tpr, fpr = grid_search(spectrum['bins'], truth, algo_no1, K, E, H)\n",
    "roc_curve(tpr, fpr)"
   ]
  },
  {
   "cell_type": "markdown",
   "id": "f71db53a",
   "metadata": {},
   "source": [
    "### ROC: algoritmus prechodu nulou do záporu"
   ]
  },
  {
   "cell_type": "code",
   "execution_count": null,
   "id": "505eddd9",
   "metadata": {},
   "outputs": [],
   "source": [
    "K = np.arange(1, 50)\n",
    "S = np.linspace(0, 300, 10)\n",
    "print('k=', K); print('slope=', S)\n",
    "\n",
    "def algo_no2(k, s):\n",
    "    f = partial(find_peaks_zero_crossing, k=int(k), slope=s)\n",
    "    return peaks_indices_windowed(f, spectrum['magnitudes'])\n",
    "\n",
    "tpr, fpr = grid_search(spectrum['bins'], truth, algo_no2, K, S)\n",
    "roc_curve(tpr, fpr)"
   ]
  },
  {
   "cell_type": "markdown",
   "id": "c6c6731a",
   "metadata": {},
   "source": [
    "### ROC: algoritmus horského turistu"
   ]
  },
  {
   "cell_type": "code",
   "execution_count": null,
   "id": "4d17912f",
   "metadata": {},
   "outputs": [],
   "source": [
    "H = np.linspace(0, np.max(spectrum['magnitudes']), 6)\n",
    "L = np.linspace(0, len(spectrum['bins']), 6)\n",
    "print('tolerance=', H); print('hole=', L); print('prominence=', H); print('isolation=', L)\n",
    "\n",
    "def algo_no3(t, h, p, i):\n",
    "    f = partial(find_peaks_hill_walker, tolerance=t, hole=int(h), prominence=p, isolation=int(i))\n",
    "    return peaks_indices_windowed(f, spectrum['magnitudes'])\n",
    "\n",
    "tpr, fpr = grid_search(spectrum['bins'], truth, algo_no3, H, L, H, L)\n",
    "roc_curve(tpr, fpr)"
   ]
  },
  {
   "cell_type": "code",
   "execution_count": null,
   "id": "3206ccf2",
   "metadata": {},
   "outputs": [],
   "source": [
    "# načítanie reálneho samplu z vibrácií\n",
    "\n",
    "\n",
    "# prerob hľadanie špičiek na vrátenie labelov -> sklearn predictory\n",
    "# integračné metódy pre odvodenie rýchlosti a polohy \n",
    "# korekcia integrácie obálkami - filter vs. B-spline\n",
    "# oknované štatistiky v časovej doméne a aplikácia detektorov špičiek"
   ]
  }
 ],
 "metadata": {
  "kernelspec": {
   "display_name": "Python 3 (ipykernel)",
   "language": "python",
   "name": "python3"
  },
  "language_info": {
   "codemirror_mode": {
    "name": "ipython",
    "version": 3
   },
   "file_extension": ".py",
   "mimetype": "text/x-python",
   "name": "python",
   "nbconvert_exporter": "python",
   "pygments_lexer": "ipython3",
   "version": "3.10.2"
  }
 },
 "nbformat": 4,
 "nbformat_minor": 5
}
