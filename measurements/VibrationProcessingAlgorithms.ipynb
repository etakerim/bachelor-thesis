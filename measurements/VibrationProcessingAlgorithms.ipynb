{
 "cells": [
  {
   "cell_type": "markdown",
   "id": "36576437",
   "metadata": {},
   "source": [
    "## Modely na spracovanie signálov z vibrácií\n",
    "\n",
    "Modely na monitorovanie vibrácií na základe analyzovaných algoritmov detekcie špičiek. Meranie úspešnosti na synteticky generovaných dátach.\n",
    "\n",
    "### Toky v návrhu riešenia\n",
    "1. Frekvenčná analýza\n",
    "2. Online štatistiky v čase\n",
    "3. Podvzorkovanie\n",
    "\n",
    "#### Algoritmy na rozpoznávanie špičiek\n",
    "za aplikovania vyhladzovania cez priemerovací filter\n",
    "\n",
    "0. Detekcia špičiek prahovou úrovňou\n",
    "1. Význačnosť vrchola spomedzi susedov\n",
    "2. Algoritmus prechodu nulou do záporu\n",
    "3. Algoritmus horského turistu\n",
    "\n",
    "#### Rozklad vo frekvenčnej doméne\n",
    "- Fouriérová transformácia - FFT\n",
    "- DCT-II, DCT-IV\n",
    "- Oknové funkcie: obdĺžníkové, Bartlettovo, Hannovo, Hammingovo a Blackmanovo okno\n",
    "- Welchova metóda"
   ]
  },
  {
   "cell_type": "code",
   "execution_count": null,
   "id": "67b1ea7c",
   "metadata": {},
   "outputs": [],
   "source": [
    "import numpy as np\n",
    "from scipy.signal.windows import (\n",
    "    boxcar,\n",
    "    bartlett,\n",
    "    hann,\n",
    "    hamming,\n",
    "    blackman,\n",
    "    gaussian\n",
    ")\n",
    "import matplotlib.pyplot as plt\n",
    "from functools import partial\n",
    "from pprint import pprint\n",
    "\n",
    "from signals.signal_generator import *\n",
    "from signals.event_detection import *\n",
    "from signals.metrics import *\n",
    "from signals.graphs import *\n",
    "from signals.loader import *\n",
    "\n",
    "gauss = partial(gaussian, std=1)"
   ]
  },
  {
   "cell_type": "markdown",
   "id": "afeb6012",
   "metadata": {},
   "source": [
    "### Generovanie sínusoidy\n",
    "s frekvenciou, trvaním, pri vzorkovacej frekvencii"
   ]
  },
  {
   "cell_type": "code",
   "execution_count": null,
   "id": "4a4e2b40",
   "metadata": {},
   "outputs": [],
   "source": [
    "x, y = sine_generate(f=10, t=1, fs=200)\n",
    "fig, axes = plt.subplots(3, 1, figsize=(20, 10))\n",
    "\n",
    "p = find_peaks_neighbours(y, k=2, e=0, h_rel=0, h=0)\n",
    "print('find_peaks_neighbours:\\t', p)\n",
    "plot_sinusoid(x, y, p, axes[0])\n",
    "\n",
    "p = find_peaks_zero_crossing(y, k=1, slope=0)\n",
    "print('find_peaks_zero_crossing:', p)\n",
    "plot_sinusoid(x, y, p, axes[1])\n",
    "\n",
    "p = find_peaks_hill_walker(y, tolerance=0, hole=0, prominence=0, isolation=0)\n",
    "print('find_peaks_hill_walker:\\t', p)\n",
    "plot_sinusoid(x, y, p, axes[2])"
   ]
  },
  {
   "cell_type": "markdown",
   "id": "e8ce01e4",
   "metadata": {},
   "source": [
    "### Prepočet poradia frekvenčného vedierka na frekvencie v Hz pre skutočné a predikované špičky"
   ]
  },
  {
   "cell_type": "code",
   "execution_count": null,
   "id": "955489cc",
   "metadata": {},
   "outputs": [],
   "source": [
    "def found_peak_freqs(truth, peaks, spectrum):\n",
    "    f_truth = peak_freqs_windowed(truth, spectrum['bins'], spectrum['resolution'])\n",
    "    f_peaks = peak_freqs_windowed(peaks, spectrum['bins'], spectrum['resolution'])\n",
    "\n",
    "    for t_win, p_win in zip(f_truth, f_peaks):\n",
    "        print(\"Okno:\")\n",
    "        print('\\tI:', ', '.join([f'<{a:.2f}-{b:.2f}>' for a, b in t_win]))\n",
    "        print('\\tO:', ', '.join([f'<{a:.2f}-{b:.2f}>' for a, b in p_win]))  "
   ]
  },
  {
   "cell_type": "markdown",
   "id": "d2e8c9e9",
   "metadata": {},
   "source": [
    "### Generovanie sinusoidy s f = 15 Hz, trvaním t = 1s pri fs = 250Hz"
   ]
  },
  {
   "cell_type": "code",
   "execution_count": null,
   "id": "2dd39a39",
   "metadata": {},
   "outputs": [],
   "source": [
    "plt.rcParams['figure.figsize'] = (10, 3)\n",
    "rec = {\n",
    "    'duration': 1,\n",
    "    'f_sampling': 250,\n",
    "    'sines': [{'freq': 15, 'amp': 1, 't0': 0, 'tn': 1}],\n",
    "}\n",
    "t, y = sine_generate(f=rec['sines'][0]['freq'], t=rec['duration'], fs=rec['f_sampling'])\n",
    "plt.plot(t, y)\n",
    "plt.show()"
   ]
  },
  {
   "cell_type": "markdown",
   "id": "ac1704ba",
   "metadata": {},
   "source": [
    "### Hľadanie špičiek spomedzi najbližších susedov vo frekvenčnej doméne na sínusoide s f = 20 Hz"
   ]
  },
  {
   "cell_type": "code",
   "execution_count": null,
   "id": "abfc25a7",
   "metadata": {},
   "outputs": [],
   "source": [
    "spectrum = frequency_spectrum(t, y, fs=rec['f_sampling'], window=hann, Wn=63, overlap=0, mode='linear')\n",
    "func = partial(find_peaks_neighbours, k=3, e=0, h_rel=0, h=-100)\n",
    "\n",
    "peaks = peaks_indices_windowed(func, spectrum['magnitudes'])\n",
    "plot_spectra_slices(spectrum['bins'], spectrum['magnitudes'], peaks)\n",
    "\n",
    "truth = ground_truth(rec, spectrum['t_windows'], spectrum['Wn'], spectrum['resolution'])\n",
    "found_peak_freqs(truth, peaks, spectrum)"
   ]
  },
  {
   "cell_type": "markdown",
   "id": "9f33b08a",
   "metadata": {},
   "source": [
    "### Vyhodnotenie klasifikácie špičiek"
   ]
  },
  {
   "cell_type": "code",
   "execution_count": null,
   "id": "36d75bc6",
   "metadata": {},
   "outputs": [],
   "source": [
    "m = metrics(spectrum['bins'], truth, peaks)\n",
    "\n",
    "print('Podľa okna:')\n",
    "pprint(m)\n",
    "print('Makro:', metric_macro_average(m))\n",
    "print('Mikro:', metric_micro_average(m))"
   ]
  },
  {
   "cell_type": "markdown",
   "id": "6657adf7",
   "metadata": {},
   "source": [
    "### Hľadanie špičiek spomedzi najbližších susedov vo frekvenčnej doméne \n",
    "sínusoida s f = 8 Hz, t = 4 s, fs = 100 Hz v logaritmickej mierke"
   ]
  },
  {
   "cell_type": "code",
   "execution_count": null,
   "id": "9a9eedd5",
   "metadata": {},
   "outputs": [],
   "source": [
    "rec = {\n",
    "    'duration': 4,\n",
    "    'f_sampling': 100,\n",
    "    'sines': [{'freq': 8, 'amp': 1, 't0': 0, 'tn': 4}],\n",
    "}\n",
    "t, y = sine_generate(f=rec['sines'][0]['freq'], t=rec['duration'], fs=rec['f_sampling'])\n",
    "\n",
    "spectrum = frequency_spectrum(t, y, fs=rec['f_sampling'], window=hann, Wn=127, overlap=0.25, mode='log')\n",
    "peaks = peaks_indices_windowed(\n",
    "    peak_find=partial(find_peaks_neighbours, k=3, e=0, h_rel=0, h=-100),\n",
    "    magnitudes=spectrum['magnitudes']\n",
    ")\n",
    "plot_spectra_slices(spectrum['bins'], spectrum['magnitudes'], peaks)\n",
    "\n",
    "truth = ground_truth(rec, spectrum['t_windows'], spectrum['Wn'], spectrum['resolution'])\n",
    "found_peak_freqs(truth, peaks, spectrum)"
   ]
  },
  {
   "cell_type": "markdown",
   "id": "1008f56e",
   "metadata": {},
   "source": [
    "### Generovanie signálu s normálne rozdeleným šumom"
   ]
  },
  {
   "cell_type": "code",
   "execution_count": null,
   "id": "25148198",
   "metadata": {},
   "outputs": [],
   "source": [
    "plt.rcParams['figure.figsize'] = (10, 3)\n",
    "y_noisy = y + np.random.normal(loc=0, scale=0.2, size=len(y))\n",
    "plt.plot(t, y_noisy)\n",
    "plt.grid()\n",
    "plt.show()"
   ]
  },
  {
   "cell_type": "markdown",
   "id": "ca484547",
   "metadata": {},
   "source": [
    "### Generátor syntetického signálu so šumom zo sinusioíd\n",
    "Pravidlá na opis požadovaného signálu musia dodržať nasledujúcu štruktúru:\n",
    "```json\n",
    "{\n",
    "    \"duration\": 1,\n",
    "    \"f_sampling\": 476,\n",
    "    \"sines\": [\n",
    "        {\"freq\": 5, \"amp\": 1.5, \"t0\": 0, \"tn\": 0.5}\n",
    "    ],\n",
    "    \"noises\": [\n",
    "        {\"amp\": 0.2, \"t0\": 0, \"tn\": 1.5}\n",
    "    ]\n",
    "}\n",
    "```"
   ]
  },
  {
   "cell_type": "code",
   "execution_count": null,
   "id": "f8f70af5",
   "metadata": {},
   "outputs": [],
   "source": [
    "# Prípadne načítanie pravidiel zo súboru\n",
    "recording = signal_rules('datasets/synth-signal/rec.json')\n",
    "print(recording)\n",
    "\n",
    "# Pravidlá na poskladanie tónov\n",
    "recording = {\n",
    "    'duration': 5,\n",
    "    'f_sampling': 476,\n",
    "    'sines': [\n",
    "        {'freq': 5, 'amp': 1.5, 't0': 0, 'tn': 1.5},\n",
    "        {'freq': 18, 'amp': 1.5, 't0': 1.2, 'tn': 5},\n",
    "        {'freq': 30, 'amp': 1, 't0': 0, 'tn': 5},\n",
    "        {'freq': 75, 'amp': 2.8, 't0': 0, 'tn': 5},\n",
    "        {'freq': 230, 'amp': 0.5, 't0': 1, 'tn': 5}\n",
    "    ],\n",
    "    'noises': [\n",
    "        {'amp': 0.2, 't0': 0, 'tn': 5}\n",
    "    ]\n",
    "}\n",
    "\n",
    "# Vzorkovaný signál podľa popisu\n",
    "t, y = signal_generate(recording)\n",
    "# Ponechanie vzoriek nad prahovú magnitúdu a vynulovanie ostatných\n",
    "y_event = signal_threshold(y, 0.8)\n",
    "# Vyhladenie signálu so zvolenou okovou funkciou a veľkosťou kernelu\n",
    "t_s, y_s = smooth_signal(t, y_event, boxcar, k=10)\n",
    "\n",
    "# Vykreslenie grafu\n",
    "plt.rcParams['figure.figsize'] = (20, 10)\n",
    "fig, axes = plt.subplots(3, 1)\n",
    "axes[0].set_title('Syntetický signál so šumom')\n",
    "axes[0].set_ylabel('Amplitúda')\n",
    "axes[0].plot(t, y)\n",
    "axes[0].grid()\n",
    "\n",
    "axes[1].set_title('Ponechanie najvyšších magnitúd y > 0.8')\n",
    "axes[1].plot(t, y_event)\n",
    "axes[1].set_ylabel('Amplitúda')\n",
    "axes[1].grid()\n",
    "\n",
    "axes[2].set_title('Vyhladenie udalostí')\n",
    "axes[2].plot(t_s, y_s)\n",
    "axes[2].set_ylabel('Amplitúda')\n",
    "axes[2].set_xlabel('Čas [s]')\n",
    "axes[2].grid()\n",
    "plt.show()"
   ]
  },
  {
   "cell_type": "code",
   "execution_count": null,
   "id": "1b805401",
   "metadata": {},
   "outputs": [],
   "source": [
    "plt.rcParams['figure.figsize'] = (20, 5)\n",
    "fig, axes = plt.subplots(1, 3)\n",
    "axes[0].hist(y, bins=100)\n",
    "axes[1].hist(y_event, bins=100)\n",
    "axes[2].hist(y_s, bins=100)\n",
    "plt.show()"
   ]
  },
  {
   "cell_type": "markdown",
   "id": "958a8973",
   "metadata": {},
   "source": [
    "### Hľadanie vrcholov v jednom spektrograme. Podklad pre unit test na zhodu implementácii v C a Pythone"
   ]
  },
  {
   "cell_type": "code",
   "execution_count": null,
   "id": "6c768c6b",
   "metadata": {},
   "outputs": [],
   "source": [
    "recording = {\n",
    "    'duration': 3,\n",
    "    'f_sampling': 32,\n",
    "    'sines': [\n",
    "        {'freq': 2, 'amp': 2, 't0': 0, 'tn': 3},\n",
    "        {'freq': 6, 'amp': 1, 't0': 0, 'tn': 3},\n",
    "        {'freq': 7.5, 'amp': 0.7, 't0': 0, 'tn': 3},\n",
    "        {'freq': 8, 'amp': 1.5, 't0': 0, 'tn': 3},\n",
    "        {'freq': 12, 'amp': 3, 't0': 0, 'tn': 3}\n",
    "    ],\n",
    "    'noises': [\n",
    "        {'amp': 0.4, 't0': 0, 'tn': 3}  # gaussian noise\n",
    "    ]\n",
    "}\n",
    "\n",
    "np.random.seed(1)\n",
    "t, y = signal_generate(recording)\n",
    "# y += 10  # DC offset\n",
    "\n",
    "#plt.plot(t, y)\n",
    "spectrum = frequency_spectrum(t, y, fs=recording['f_sampling'], window=hamming, Wn=64, overlap=0.5, mode='log')\n",
    "\n",
    "tf = spectrum['bins']\n",
    "yf = spectrum['magnitudes'][0]\n",
    "\n",
    "fig, ax = plt.subplots(3, 1, figsize=(20, 10))\n",
    "\n",
    "pA = find_peaks_neighbours(yf, k=4, e=0, h_rel=10, h=-100)\n",
    "plot_sinusoid(tf, yf, pA, ax[0])\n",
    "pB = find_peaks_zero_crossing(yf, k=2, slope=7)\n",
    "plot_sinusoid(tf, yf, pB, ax[1])\n",
    "pC = find_peaks_hill_walker(yf, tolerance=1, hole=0, prominence=8, isolation=0)\n",
    "plot_sinusoid(tf, yf, pC, ax[2])\n",
    "\n",
    "# Print test data for unit test in C\n",
    "print(len(yf))\n",
    "print(list(yf))\n",
    "pp = np.full(len(yf), 0); pp[pA] = 1\n",
    "print(list(pp))\n",
    "pp = np.full(len(yf), 0); pp[pB] = 1\n",
    "print(list(pp))\n",
    "pp = np.full(len(yf), 0); pp[pC] = 1\n",
    "print(list(pp))"
   ]
  },
  {
   "cell_type": "markdown",
   "id": "70ff3308",
   "metadata": {},
   "source": [
    "### Detekcia špičiek v signále so šumom manuálnym ladením hyperparametrov"
   ]
  },
  {
   "cell_type": "code",
   "execution_count": null,
   "id": "d39a8384",
   "metadata": {},
   "outputs": [],
   "source": [
    "recording = {\n",
    "    'duration': 5,\n",
    "    'f_sampling': 476,\n",
    "    'sines': [\n",
    "        {'freq': 5, 'amp': 1.5, 't0': 0, 'tn': 1.5},\n",
    "        {'freq': 18, 'amp': 1.5, 't0': 1.2, 'tn': 5},\n",
    "        {'freq': 30, 'amp': 1, 't0': 0, 'tn': 5},\n",
    "        {'freq': 75, 'amp': 2.8, 't0': 0, 'tn': 5},\n",
    "        {'freq': 230, 'amp': 0.5, 't0': 1, 'tn': 5}\n",
    "    ],\n",
    "    'noises': [\n",
    "        {'amp': 0.2, 't0': 0, 'tn': 5}\n",
    "    ]\n",
    "}\n",
    "\n",
    "t, y = signal_generate(recording)\n",
    "y = signal_threshold(y, 0.8) \n",
    "\n",
    "spectrum = frequency_spectrum(t, y, fs=recording['f_sampling'], window=hann, Wn=511, overlap=0.5, mode='log')\n",
    "smooth_spectra(spectrum, boxcar, 4)\n",
    "\n",
    "func = partial(find_peaks_neighbours, k=9, e=0, h_rel=15, h=-100)\n",
    "# func = partial(find_peaks_zero_crossing, k=2, slope=4)\n",
    "# func = partial(find_peaks_hill_walker, tolerance=0, hole=0, prominence=10, isolation=5)\n",
    "\n",
    "peaks = peaks_indices_windowed(func, spectrum['magnitudes'])\n",
    "plot_spectra_slices(spectrum['bins'], spectrum['magnitudes'], peaks)\n",
    "\n",
    "truth = ground_truth(recording, spectrum['t_windows'], spectrum['Wn'], spectrum['resolution'])\n",
    "m = metrics(spectrum['bins'], truth, peaks)\n",
    "\n",
    "print('Macro:', metric_macro_average(m))\n",
    "print('Micro:', metric_micro_average(m))"
   ]
  },
  {
   "cell_type": "markdown",
   "id": "ad354ba0",
   "metadata": {},
   "source": [
    "### Detektor udalostí testovaný na syntetických dátach"
   ]
  },
  {
   "cell_type": "code",
   "execution_count": null,
   "id": "83c4b796",
   "metadata": {},
   "outputs": [],
   "source": [
    "events = event_detector(spectrum['bins'], spectrum['magnitudes'], peaks, min_duration=2, time_proximity=2)\n",
    "events"
   ]
  },
  {
   "cell_type": "markdown",
   "id": "1ed54ad6",
   "metadata": {},
   "source": [
    "### Vizualizácia udalostí v spektrograme"
   ]
  },
  {
   "cell_type": "code",
   "execution_count": null,
   "id": "c46f7b19",
   "metadata": {},
   "outputs": [],
   "source": [
    "plot_spectra_events(spectrum, events)"
   ]
  },
  {
   "cell_type": "markdown",
   "id": "ee74b4d9",
   "metadata": {},
   "source": [
    "### Úspešnosť klasifikátora na trénovacej a testovacej množine\n",
    "Spôsob hľadania najlepších parametrov je grid search na trénovacich dátach"
   ]
  },
  {
   "cell_type": "code",
   "execution_count": null,
   "id": "f97d8148",
   "metadata": {},
   "outputs": [],
   "source": [
    "rec_train = {\n",
    "    'duration': 30,\n",
    "    'f_sampling': 128,\n",
    "    'sines': [\n",
    "        {'freq': 5, 'amp': 1.8, 't0': 0, 'tn': 10},\n",
    "        {'freq': 12, 'amp': 2.3, 't0': 5, 'tn': 25},\n",
    "        {'freq': 45, 'amp': 0.8, 't0': 0, 'tn': 30},\n",
    "    ],\n",
    "    'noises': [\n",
    "        {'amp': 0.1, 't0': 0, 'tn': 5}\n",
    "    ]\n",
    "}\n",
    "rec_test = {\n",
    "    'duration': 8,\n",
    "    'f_sampling': 128,\n",
    "    'sines': [\n",
    "        {'freq': 8, 'amp': 1.6, 't0': 5, 'tn': 8},\n",
    "        {'freq': 24, 'amp': 2.7, 't0': 0, 'tn': 6},\n",
    "        {'freq': 32, 'amp': 1.1, 't0': 0, 'tn': 8},\n",
    "    ],\n",
    "    'noises': [\n",
    "        {'amp': 0.1, 't0': 0, 'tn': 5}\n",
    "    ]\n",
    "}\n",
    "t_train, y_train = signal_generate(rec_train)\n",
    "t_test, y_test = signal_generate(rec_test)\n",
    "\n",
    "train_spectra = frequency_spectrum(\n",
    "    t_train, y_train, fs=rec_train['f_sampling'], window=hann, Wn=255, overlap=0.5, mode='linear'\n",
    ")\n",
    "test_spectra = frequency_spectrum(\n",
    "    t_test, y_test, fs=rec_test['f_sampling'], window=hann, Wn=255, overlap=0.5, mode='linear'\n",
    ")\n",
    "\n",
    "train_labels = ground_truth(\n",
    "    rec_train, train_spectra['t_windows'], 255, train_spectra['resolution']\n",
    ")\n",
    "test_labels = ground_truth(\n",
    "    rec_test, test_spectra['t_windows'], 255, test_spectra['resolution']\n",
    ")"
   ]
  },
  {
   "cell_type": "markdown",
   "id": "be57c162",
   "metadata": {},
   "source": [
    "### Úspešnosť: význačnosť vrchola spomedzi susedov"
   ]
  },
  {
   "cell_type": "code",
   "execution_count": null,
   "id": "3f62a94f",
   "metadata": {},
   "outputs": [],
   "source": [
    "def algo_no1(spectrum, k, e, h_rel):\n",
    "    f = partial(find_peaks_neighbours, k=int(k), e=int(e), h_rel=h_rel, h=-100)\n",
    "    return peaks_indices_windowed(f, spectrum['magnitudes'])\n",
    "\n",
    "# Možno previesť do relatívnych čísel vzhľadom na magnitúdy v okne\n",
    "n = 16 # len(train_spectra['bins']) // 4\n",
    "K = np.arange(3, n, 3)\n",
    "E = np.linspace(0, np.max(train_spectra['magnitudes']), 3)  \n",
    "H = np.linspace(0, np.max(train_spectra['magnitudes']), 8)\n",
    "\n",
    "best = grid_search(train_spectra, train_labels, algo_no1, 'macro', K, E, H)\n",
    "m_train = evaluation(train_spectra['bins'], train_labels, algo_no1(train_spectra, *best), 'macro')\n",
    "m_test = evaluation(test_spectra['bins'], test_labels, algo_no1(test_spectra, *best), 'macro')\n",
    "\n",
    "print('k =', ', '.join([f'{x}' for x in K]))\n",
    "print('e =', ', '.join([f'{x:.2f}' for x in E]))\n",
    "print('h_rel =', ', '.join([f'{x:.2f}' for x in H]))\n",
    "print()\n",
    "print('Best k =', best[0])\n",
    "print('Best e =', best[1])\n",
    "print('Best h_rel =', best[2])\n",
    "print()\n",
    "print('Train:', m_train)\n",
    "print('Test:', m_test)"
   ]
  },
  {
   "cell_type": "markdown",
   "id": "f71db53a",
   "metadata": {},
   "source": [
    "### Úspešnosť: algoritmus prechodu nulou do záporu"
   ]
  },
  {
   "cell_type": "code",
   "execution_count": null,
   "id": "505eddd9",
   "metadata": {},
   "outputs": [],
   "source": [
    "def algo_no2(spectrum, k, s):\n",
    "    f = partial(find_peaks_zero_crossing, k=int(k), slope=s)\n",
    "    return peaks_indices_windowed(f, spectrum['magnitudes'])\n",
    "\n",
    "\n",
    "K = np.arange(1, 50)\n",
    "S = np.linspace(0, 6, 10)\n",
    "print('k=', K); print('slope=', S)\n",
    "\n",
    "\n",
    "best = grid_search(train_spectra, train_labels, algo_no2, 'macro', K, S)\n",
    "m_train = evaluation(train_spectra['bins'], train_labels, algo_no2(train_spectra, *best), 'macro')\n",
    "m_test = evaluation(test_spectra['bins'], test_labels, algo_no2(test_spectra, *best), 'macro')\n",
    "\n",
    "print('k =', ', '.join([f'{x}' for x in K]))\n",
    "print('s =', ', '.join([f'{x:.2f}' for x in S]))\n",
    "print()\n",
    "print('Best k =', best[0])\n",
    "print('Best s =', best[1])\n",
    "print()\n",
    "print('Train:', m_train)\n",
    "print('Test:', m_test)"
   ]
  },
  {
   "cell_type": "markdown",
   "id": "c6c6731a",
   "metadata": {},
   "source": [
    "### Úspešnosť: algoritmus horského turistu"
   ]
  },
  {
   "cell_type": "code",
   "execution_count": null,
   "id": "4d17912f",
   "metadata": {},
   "outputs": [],
   "source": [
    "def algo_no3(spectrum, t, h, p, i):\n",
    "    f = partial(find_peaks_hill_walker, tolerance=t, hole=int(h), prominence=p, isolation=int(i))\n",
    "    return peaks_indices_windowed(f, spectrum['magnitudes'])\n",
    "\n",
    "H = np.linspace(0, np.max(spectrum['magnitudes']), 6)\n",
    "L = np.linspace(0, len(spectrum['bins']), 6)\n",
    "print('tolerance=', H); print('hole=', L); print('prominence=', H); print('isolation=', L)\n",
    "\n",
    "\n",
    "best = grid_search(train_spectra, train_labels, algo_no3, 'macro', H, L, H, L)\n",
    "m_train = evaluation(train_spectra['bins'], train_labels, algo_no3(train_spectra, *best), 'macro')\n",
    "m_test = evaluation(test_spectra['bins'], test_labels, algo_no3(test_spectra, *best), 'macro')\n",
    "\n",
    "print('h =', ', '.join([f'{x}' for x in K]))\n",
    "print('l =', ', '.join([f'{x:.2f}' for x in S]))\n",
    "print()\n",
    "print('Best tolerance =', best[0])\n",
    "print('Best hole =', best[1])\n",
    "print('Best prominence =', best[2])\n",
    "print('Best isolation =', best[3])\n",
    "print()\n",
    "print('Train:', m_train)\n",
    "print('Test:', m_test)"
   ]
  },
  {
   "cell_type": "markdown",
   "id": "48500e5b",
   "metadata": {},
   "source": [
    "### Hľadanie špičiek vo vlastných datasetoch"
   ]
  },
  {
   "cell_type": "code",
   "execution_count": null,
   "id": "3206ccf2",
   "metadata": {},
   "outputs": [],
   "source": [
    "vibrations, FS_HZ = load_dataset('esp', 'L83_4940_Alexyho_Svantnerova.csv')\n",
    "vibrations.info()"
   ]
  },
  {
   "cell_type": "code",
   "execution_count": null,
   "id": "3cafc5fb",
   "metadata": {},
   "outputs": [],
   "source": [
    "a = 20000\n",
    "b = 26000\n",
    "t = vibrations.index.array[a:b]\n",
    "y = vibrations.z.array[a:b]\n",
    "\n",
    "y = signal_threshold(y - y.mean(), 1)\n",
    "#t, y = smooth_signal(t, y, boxcar, 32)\n",
    "plt.rcParams['figure.figsize'] = (20, 4)\n",
    "plt.plot(t, y)"
   ]
  },
  {
   "cell_type": "code",
   "execution_count": null,
   "id": "ac3f9adc",
   "metadata": {},
   "outputs": [],
   "source": [
    "spectrum = frequency_spectrum(t, y, fs=FS_HZ, window=hann, Wn=512, overlap=0.5, mode='log')\n",
    "# welch_method(spectrum, 3)\n",
    "# smooth_spectra(spectrum, boxcar, 10)\n",
    "\n",
    "# func = partial(find_peaks_threshold, t=-15)\n",
    "func = partial(find_peaks_neighbours, k=20, e=0, h_rel=5, h=-100)\n",
    "# func = partial(find_peaks_zero_crossing, k=30, slope=10)\n",
    "# func = partial(find_peaks_hill_walker, tolerance=5, hole=0, prominence=10, isolation=5)\n",
    "peaks = peaks_indices_windowed(func, spectrum['magnitudes'])\n",
    "\n",
    "plot_spectra_slices(spectrum['bins'], spectrum['magnitudes'], peaks)"
   ]
  },
  {
   "cell_type": "markdown",
   "id": "9c2ad3f0",
   "metadata": {},
   "source": [
    "### Odčítanie bežiaceho priemeru \n",
    "\n",
    "- online aproximácia pre: `y - y.mean()`\n",
    "- Cumulative moving average: https://en.wikipedia.org/wiki/Moving_average#Cumulative_moving_average\n",
    "- Welfordov algoritmus (2.20 v BP)"
   ]
  },
  {
   "cell_type": "code",
   "execution_count": null,
   "id": "acba9a81",
   "metadata": {},
   "outputs": [],
   "source": [
    "def filter_running_average(y: np.array):\n",
    "    avg = y[0]\n",
    "    n = 1\n",
    "\n",
    "    for i, sample in enumerate(y[1:], start=1):\n",
    "        n += 1\n",
    "        avg += (sample - avg) / n \n",
    "        y[i] -= avg\n",
    "        \n",
    "    return y"
   ]
  },
  {
   "cell_type": "markdown",
   "id": "ec50a9fe",
   "metadata": {},
   "source": [
    "### Demonštrácia pipeline"
   ]
  },
  {
   "cell_type": "code",
   "execution_count": null,
   "id": "e7b0ba9c",
   "metadata": {},
   "outputs": [],
   "source": [
    "# Získanie signálu v časovej doméne\n",
    "t = vibrations.index.array\n",
    "y = vibrations.z.array\n",
    "\n",
    "# Odčítanie bežiaceho priemeru (online aproximácia pre: y - y.mean())\n",
    "y = filter_running_average(y)\n",
    "\n",
    "# Orezanie vzoriek s nízkou magnitúdou\n",
    "y = signal_threshold(y, 1)\n",
    "\n",
    "# Vyhladenie signálu v času\n",
    "t, y = smooth_signal(t, y, boxcar, 2)\n",
    "\n",
    "# Frekvenčná transformácia (fft, rfft, dct-ii, dct-iv)\n",
    "spectrum = frequency_spectrum(t, y, fs=FS_HZ, window=hann, Wn=256, overlap=0.5, trans='fft', mode='log')\n",
    "\n",
    "# Vyhadenie spektier\n",
    "smooth_spectra(spectrum, boxcar, 2)\n",
    "\n",
    "# Welchova metóda priemerovanie n spektrogramov\n",
    "welch_method(spectrum, n=2)\n",
    "\n",
    "# Hľadanie špičiek v spektre\n",
    "# func = partial(find_peaks_threshold, t=-15)\n",
    "func = partial(find_peaks_neighbours, k=10, e=0, h_rel=0, h=-100)\n",
    "# func = partial(find_peaks_zero_crossing, k=5, slope=6)\n",
    "# func = partial(find_peaks_hill_walker, tolerance=10, hole=1, prominence=8, isolation=5)\n",
    "peaks = peaks_indices_windowed(func, spectrum['magnitudes'])\n",
    "\n",
    "# Nakresli spektrogram\n",
    "print(spectrum['t_windows'].shape)\n",
    "print(spectrum['bins'].shape)\n",
    "print(spectrum['magnitudes'].shape)\n",
    "plot_spectra_heatmap(spectrum, peaks) # ylog=True, yrange=(0,50))"
   ]
  },
  {
   "cell_type": "markdown",
   "id": "17cb89dc",
   "metadata": {},
   "source": [
    "### Vizualizácia detegovaných udalostí"
   ]
  },
  {
   "cell_type": "code",
   "execution_count": null,
   "id": "409c474b",
   "metadata": {},
   "outputs": [],
   "source": [
    "t = vibrations.index.array\n",
    "y = vibrations.z.array\n",
    "\n",
    "spectrum = frequency_spectrum(t, y, fs=FS_HZ, window=hann, Wn=256, overlap=0.5, trans='fft', mode='log')\n",
    "# smooth_spectra(spectrum, boxcar, 5)\n",
    "\n",
    "# func = partial(find_peaks_threshold, t=-15)\n",
    "func = partial(find_peaks_neighbours, k=10, e=0, h_rel=0, h=-100)\n",
    "# func = partial(find_peaks_zero_crossing, k=5, slope=6)\n",
    "# func = partial(find_peaks_hill_walker, tolerance=10, hole=1, prominence=8, isolation=5)\n",
    "\n",
    "peaks = peaks_indices_windowed(func, spectrum['magnitudes'])\n",
    "print(spectrum['t_windows'].shape)\n",
    "print(spectrum['bins'].shape)\n",
    "print(spectrum['magnitudes'].shape)\n",
    "plot_spectra_heatmap(spectrum, peaks) #ylog=True, yrange=(0,50))"
   ]
  },
  {
   "cell_type": "code",
   "execution_count": null,
   "id": "00fee64f",
   "metadata": {},
   "outputs": [],
   "source": [
    "# Zisti či sa jedná sa o udalosť podľa tolerancie trvania\n",
    "events = event_detector(spectrum['bins'], spectrum['magnitudes'], peaks, min_duration=8, time_proximity=6)\n",
    "plot_spectra_events(spectrum, events)"
   ]
  },
  {
   "cell_type": "code",
   "execution_count": null,
   "id": "8ac79155",
   "metadata": {},
   "outputs": [],
   "source": [
    "plot_spectra_event_vs_peaks(spectrum, events, peaks)"
   ]
  },
  {
   "cell_type": "code",
   "execution_count": null,
   "id": "a4d4c57d",
   "metadata": {},
   "outputs": [],
   "source": [
    "A = partial(find_peaks_threshold, t=-15)\n",
    "B = partial(find_peaks_neighbours, k=9, e=0, h_rel=10, h=-100)\n",
    "C = partial(find_peaks_zero_crossing, k=37, slope=5.33)\n",
    "D = partial(find_peaks_hill_walker, tolerance=10, hole=1, prominence=8, isolation=5)\n",
    "\n",
    "def dataset_spectrum(filename, algo):\n",
    "    windows = [64, 128, 256, 512]\n",
    "    fig, axis = plt.subplots(4, 1, figsize=(20, 30))\n",
    "    \n",
    "    ts, FS_HZ = load_dataset('esp', filename)\n",
    "    t = ts.index.array\n",
    "    y = ts.z.array\n",
    "\n",
    "    for i, w in enumerate(windows):\n",
    "        spectrum = frequency_spectrum(t, y, fs=FS_HZ, window=hann, Wn=w, overlap=0.5, trans='fft', mode='log')\n",
    "        # smooth_spectra(spectrum, boxcar, 5)\n",
    "        peaks = peaks_indices_windowed(algo, spectrum['magnitudes'])\n",
    "        events = event_detector(spectrum['bins'], spectrum['magnitudes'], peaks, min_duration=4, time_proximity=6)\n",
    "        plot_spectra_event_vs_peaks(spectrum, events, peaks, ax=axis[i])\n",
    "        #plot_spectra_heatmap(spectrum, ax=axis[i])"
   ]
  },
  {
   "cell_type": "code",
   "execution_count": null,
   "id": "f744be86",
   "metadata": {},
   "outputs": [],
   "source": [
    "dataset_spectrum('L83_4940_Alexyho_Svantnerova.csv', D)"
   ]
  },
  {
   "cell_type": "code",
   "execution_count": null,
   "id": "1aac7f15",
   "metadata": {},
   "outputs": [],
   "source": [
    "dataset_spectrum('L20_3014_Zaluhy-Drobneho.csv', D)"
   ]
  },
  {
   "cell_type": "code",
   "execution_count": null,
   "id": "d06707dd",
   "metadata": {},
   "outputs": [],
   "source": [
    "dataset_spectrum('L35_1915_Borska_Zaluhy.csv', D)"
   ]
  }
 ],
 "metadata": {
  "kernelspec": {
   "display_name": "Python 3 (ipykernel)",
   "language": "python",
   "name": "python3"
  },
  "language_info": {
   "codemirror_mode": {
    "name": "ipython",
    "version": 3
   },
   "file_extension": ".py",
   "mimetype": "text/x-python",
   "name": "python",
   "nbconvert_exporter": "python",
   "pygments_lexer": "ipython3",
   "version": "3.10.2"
  }
 },
 "nbformat": 4,
 "nbformat_minor": 5
}
