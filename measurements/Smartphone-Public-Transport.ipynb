{
 "cells": [
  {
   "cell_type": "markdown",
   "id": "bbe18845",
   "metadata": {},
   "source": [
    "# Vibrácie pri preprave bratislavskou MHD\n",
    "\n",
    "#### Parametre:\n",
    "- **Smartfón**: Motorola Moto E6 \n",
    "- **Aplikácie**: \n",
    "    - Accelerometer Analyzer (https://play.google.com/store/apps/details?id=com.lul.accelerometer)\n",
    "    - GPS Logger (https://play.google.com/store/apps/details?id=eu.basicairdata.graziano.gpslogger)\n",
    "- **Umiestnenie**: mobil je prednou kamerou v smere jazdy, v knižkovom púzdre\n",
    "- **Vzorkovacia frekvencia**: 200 Hz\n",
    "- **Rozsah:** $\\pm 8\\,G$\n",
    "- **Rozlíšenie:** $0.0012\\,m/s^2$\n",
    "\n",
    "#### Datasety:\n",
    "- 01_L3_Skoda_30T.csv\n",
    "- 02_L9_CKD_T6A5.csv\n",
    "- 03_L4_CKD_T3M.csv\n",
    "- 04_L9_CKD_K2S.csv\n",
    "- 05_X4_BMEZ.csv\n",
    "- 06_L83_MercedesBenz_4919.csv\n",
    "- 07_L83_MercedesBenz_4938.csv\n",
    "- 08_L31_SOR_NB18.csv"
   ]
  },
  {
   "cell_type": "code",
   "execution_count": null,
   "id": "61cf96f8",
   "metadata": {},
   "outputs": [],
   "source": [
    "%matplotlib inline  \n",
    "\n",
    "import json\n",
    "import numpy as np\n",
    "import pandas as pd\n",
    "import matplotlib.pyplot as plt\n",
    "import scipy.stats as stats\n",
    "import scipy.signal as signal\n",
    "import scipy.fft\n",
    "import pywt\n",
    "import gpxpy"
   ]
  },
  {
   "cell_type": "code",
   "execution_count": null,
   "id": "29c2d325",
   "metadata": {},
   "outputs": [],
   "source": [
    "plt.rcParams['figure.figsize'] = (20, 6)\n",
    "FS_HZ = 200\n",
    "FOLDER = 'datasets/smartphone/'\n",
    "DATASET = '06_L83_MercedesBenz_4919.csv'\n",
    "METADATA = 'metadata.json'"
   ]
  },
  {
   "cell_type": "code",
   "execution_count": null,
   "id": "1b544905",
   "metadata": {},
   "outputs": [],
   "source": [
    "route = pd.read_csv(FOLDER + DATASET, sep=' ', names=['ax', 'ay', 'az', 'dt'])\n",
    "with open(FOLDER + METADATA, 'r') as metadata:\n",
    "    desc = json.load(metadata)\n",
    "\n",
    "route['t'] = route['dt'].cumsum() / 1000\n",
    "route.set_index('t', inplace=True)\n",
    "route.describe()"
   ]
  },
  {
   "cell_type": "code",
   "execution_count": null,
   "id": "e2ccc5c0",
   "metadata": {},
   "outputs": [],
   "source": [
    "for axis in ('ax', 'ay', 'az'):\n",
    "    # Odstráň DC zložku (Bias)\n",
    "    route[axis + '_c'] = route[axis] - route[axis].mean()\n",
    "    # Zderivuj zrýchlenie (Jerk=Ryv (m/s^3 = g/s)\n",
    "    route['d_' + axis] = route[axis] - route[axis].shift(-1)\n",
    "\n",
    "# Globálne centrálne momenty rozdelenia \n",
    "moments = pd.DataFrame([\n",
    "    ['mean(A):', route['ax'].mean(), route['ay'].mean(), route['az'].mean()],\n",
    "    ['stdev(A):', route['ax'].std(), route['ay'].std(), route['az'].std()],\n",
    "    ['skew(A):', stats.skew(route['ax']), stats.skew(route['ay']), stats.skew(route['az'])],\n",
    "    ['kurtosis(A):', stats.kurtosis(route['ax']), stats.kurtosis(route['ay']), stats.kurtosis(route['az'])],\n",
    "    ['MAD(A):', stats.median_abs_deviation(route['ax']), stats.median_abs_deviation(route['ay']), stats.median_abs_deviation(route['az'])]\n",
    "], columns=['Moment', 'A_X', 'A_Y', 'A_Z']).set_index('Moment')\n",
    "moments"
   ]
  },
  {
   "cell_type": "markdown",
   "id": "9fa37fd1",
   "metadata": {},
   "source": [
    "### Histogram"
   ]
  },
  {
   "cell_type": "code",
   "execution_count": null,
   "id": "28acb007",
   "metadata": {},
   "outputs": [],
   "source": [
    "bins = np.linspace(-1.8, 1.8, 200)\n",
    "plt.hist(route['ax_c'], bins, alpha=0.5, label='ax', edgecolor='k')\n",
    "plt.hist(route['ay_c'], bins, alpha=0.5, label='ay', edgecolor='k')\n",
    "plt.hist(route['az_c'], bins, alpha=0.5, label='az', edgecolor='k')\n",
    "plt.legend(loc='upper right')\n",
    "plt.show()\n",
    "boxplot = route.boxplot(column=['ax_c', 'ay_c', 'az_c'])"
   ]
  },
  {
   "cell_type": "markdown",
   "id": "d00831da",
   "metadata": {},
   "source": [
    "### Zarovnanie GPX záznamu trasy kvôli identifkácií miest zastavenia"
   ]
  },
  {
   "cell_type": "code",
   "execution_count": null,
   "id": "005aa514",
   "metadata": {},
   "outputs": [],
   "source": [
    "TZ = 'Europe/Bratislava'\n",
    "gpx_filename = FOLDER + desc[DATASET].get('gpx')\n",
    "t_started = desc[DATASET].get('started')\n",
    "\n",
    "if gpx_filename is not None and t_started is not None:\n",
    "    # Načítanie GPX údaje zo súboru\n",
    "    with open(gpx_filename, 'r') as gpx_file:\n",
    "        gpx = gpxpy.parse(gpx_file)\n",
    "\n",
    "    # Výber rýchlostí na trase s časovými pečiatkami\n",
    "    y = [\n",
    "        (point.time, point.speed) \n",
    "        for point in gpx.tracks[0].segments[0].points\n",
    "    ]\n",
    "    track = pd.DataFrame(y, columns=['time', 'speed']).set_index('time')\n",
    "    \n",
    "    # Prepočítanie na relatívny čas podľa začiatku merania akcelerometrom\n",
    "    track.index = (\n",
    "        track.index.tz_convert(TZ) - pd.to_datetime(t_started).tz_convert(TZ)\n",
    "    ).total_seconds()\n",
    "\n",
    "    # Zarovnanie meraní z GPS s meraniami akcelerometra\n",
    "    route = pd.concat([route, track]).sort_index().interpolate().dropna()\n",
    "    \n",
    "     # Zmenšenie magnitúdy pre zobrazenie do grafu \n",
    "    route['speed'] /= 4        "
   ]
  },
  {
   "cell_type": "markdown",
   "id": "b64fb8be",
   "metadata": {},
   "source": [
    "### Graf zložiek vektora akcelerácie a metadáta načítané podľa názvu datasetu"
   ]
  },
  {
   "cell_type": "code",
   "execution_count": null,
   "id": "6b32dbf1",
   "metadata": {},
   "outputs": [],
   "source": [
    "ax, ay, az = route[['ax', 'ay', 'az']].plot(figsize=(20, 15), subplots=True, grid=True)\n",
    "\n",
    "for stop in desc[DATASET]['stops']:\n",
    "    for p in (ax, ay, az):\n",
    "        p.axvline(stop['s'], color='b')\n",
    "    ax.text(stop['s'], -2, stop['x'], rotation='vertical')\n",
    "\n",
    "ax.set_ylim(-4, 4)\n",
    "ay.set_ylim(-4, 4)\n",
    "az.set_ylim(6, 14)\n",
    "\n",
    "az.set_xlabel('Čas [s]')\n",
    "ax.set_ylabel('Zrýchlenie [m/s^2]')\n",
    "ay.set_ylabel('Zrýchlenie [m/s^2]')\n",
    "az.set_ylabel('Zrýchlenie [m/s^2]')\n",
    "\n",
    "if 'speed' in route:\n",
    "    ax = route['speed'].plot(ax=ay, label='vy_gps', legend=True)"
   ]
  },
  {
   "cell_type": "markdown",
   "id": "9222fd30",
   "metadata": {},
   "source": [
    "### Vyhladzovanie s konvolučným jadrom kĺzavého priemeru"
   ]
  },
  {
   "cell_type": "code",
   "execution_count": null,
   "id": "f9b8cade",
   "metadata": {},
   "outputs": [],
   "source": [
    "N = 64\n",
    "kernel = np.ones(N) / N\n",
    "\n",
    "dt = route['dt'].values[kernel.size - 1:] / 1000\n",
    "t = route.index.values[kernel.size - 1:]\n",
    "\n",
    "a_mean = np.convolve(route['ay_c'].values, kernel, mode='valid')\n",
    "da_mean = np.convolve(route['d_ay'].values, kernel, mode='valid')\n",
    "\n",
    "ad = pd.DataFrame({\n",
    "    't': t, \n",
    "    'dt': dt, \n",
    "    'a': a_mean,\n",
    "    'da': da_mean\n",
    "}).set_index('t')"
   ]
  },
  {
   "cell_type": "markdown",
   "id": "5bda0b98",
   "metadata": {},
   "source": [
    "### Priama numerická integrácia:\n",
    "S obdĺžníkovými a lichobežníkovým pravidlom na výpočet rýchlosti a polohy z odšumeného signálu.\n",
    "Nutné uplatniť korekcie napr.: https://www.jvejournals.com/article/16965/pdf"
   ]
  },
  {
   "cell_type": "code",
   "execution_count": null,
   "id": "e3120e7a",
   "metadata": {},
   "outputs": [],
   "source": [
    "ad['v'] = np.cumsum(ad['a'] * ad['dt'])\n",
    "ad['v_trapez'] = np.cumsum(((ad['a'] + ad['a'].shift(-1)) / 2) * ad['dt'])\n",
    "ad['v_kmh'] = ad['v'] * 3.6\n",
    "ad['x'] = np.cumsum(ad['v'] * ad['dt'])\n",
    "\n",
    "ax = ad[['da', 'a', 'v', 'v_kmh', 'x']].plot(figsize=(20, 20), subplots=True, grid=True)\n",
    "\n",
    "ax[0].set_ylabel('Ryv [m/s^3]')\n",
    "ax[1].set_ylabel('Zrýchlenie [m/s^2]')\n",
    "ax[2].set_ylabel('Rýchlosť [m/s]')\n",
    "ax[3].set_ylabel('Rýchlosť [km/h]')\n",
    "ax[4].set_ylabel('Dráha [m]')\n",
    "ax[4].set_xlabel('Čas [s]')\n",
    "\n",
    "F = 4\n",
    "ax[0].set_ylim(ad['da'].mean() - F*ad['da'].std(), ad['da'].mean() + F*ad['da'].std())\n",
    "ax[1].set_ylim(ad['a'].mean() - F*ad['a'].std(), ad['a'].mean() + F*ad['a'].std())"
   ]
  },
  {
   "cell_type": "markdown",
   "id": "68c6d9af",
   "metadata": {},
   "source": [
    "### Detekcia anomálií \n",
    "#### Z-skóre algoritmus\n",
    "$$ | y - \\bar{y} | \\geq K \\cdot \\sigma(y)$$"
   ]
  },
  {
   "cell_type": "code",
   "execution_count": null,
   "id": "4bf4a58b",
   "metadata": {},
   "outputs": [],
   "source": [
    "K = 3\n",
    "CDIR = 'az_c'\n",
    "r = route[abs(route[CDIR] - route[CDIR].mean()) >= K * route[CDIR].std()][CDIR]\n",
    "\n",
    "ax = route[CDIR].plot()\n",
    "ax.plot(r.index.values, r.values, 'o', color='r')\n",
    "ax.set_ylim(-5, 5)\n",
    "ax.set_xlabel('Čas [s]')\n",
    "p = ax.set_ylabel('Zrýchlenie [m/s^2]')"
   ]
  },
  {
   "cell_type": "markdown",
   "id": "d502e462",
   "metadata": {},
   "source": [
    "Detekcia anomálií **Median Absolute Deviate vs. Z-skóre algoritmom s rolovacím oknom**"
   ]
  },
  {
   "cell_type": "code",
   "execution_count": null,
   "id": "34156102",
   "metadata": {},
   "outputs": [],
   "source": [
    "W = 512\n",
    "CDIR = 'az_c'\n",
    "K = 3\n",
    "Q = 1.4826 * K\n",
    "\n",
    "r = route[\n",
    "    abs(route[CDIR] - route[CDIR].rolling(W).mean()) >= \n",
    "    K * route[CDIR].rolling(W).std()\n",
    "    #Q * route[CDIR].rolling(W).apply(stat.median_abs_deviation, raw=True)\n",
    "][CDIR]\n",
    "\n",
    "ax = route[CDIR].plot()\n",
    "ax.plot(r.index.values, r.values, 'o', color='r')\n",
    "ax.set_ylim(-5, 5)\n",
    "ax.set_xlabel('Čas [s]')\n",
    "p = ax.set_ylabel('Zrýchlenie [m/s^2]')"
   ]
  },
  {
   "cell_type": "markdown",
   "id": "3b3e92af",
   "metadata": {},
   "source": [
    "Hľadanie špičiek cez knižničnú funkciu `scipy.signal.pind_peaks()`"
   ]
  },
  {
   "cell_type": "code",
   "execution_count": null,
   "id": "6d743b7e",
   "metadata": {},
   "outputs": [],
   "source": [
    "y = route[CDIR].loc[200:400]\n",
    "peaks, _ = signal.find_peaks(y.values, height=1.3, distance=20)\n",
    "\n",
    "ax = y.plot()\n",
    "ax.set_xlabel('Čas [s]')\n",
    "ax.set_ylabel('Zrýchlenie [m/s^2]')\n",
    "ax.set_ylim(-5, 5)\n",
    "ax = ax.plot(y.index.values[peaks], y.values[peaks], 'o', color='r')"
   ]
  },
  {
   "cell_type": "markdown",
   "id": "d3bce587",
   "metadata": {},
   "source": [
    "#### Jednoduchý detektor vrcholov\n",
    "Preskočí špičky s absolútnou magnitúdou menšou ako `height`. Vo vnútornom cykle zisťuje či je bod vyššie ako všetkých `k` susedov doprava a doľava s toleranciou `epsilon`.\n",
    "\n",
    "$$ \\forall c \\in \\{y_{i-k}, ... y_{i+k}\\} - \\{y_i\\}; \\; y_i - c \\geq -\\epsilon $$\n",
    "\n",
    "https://terpconnect.umd.edu/~toh/spectrum/PeakFindingandMeasurement.htm"
   ]
  },
  {
   "cell_type": "code",
   "execution_count": null,
   "id": "01cd38b1",
   "metadata": {},
   "outputs": [],
   "source": [
    "def find_peaks(y: list, k: int, epsilon: float=0, height: float=None) -> pd.DataFrame:\n",
    "    spikes = []\n",
    "    for a in range(k, y.size - k): \n",
    "        if height is not None and abs(y[a]) < height:\n",
    "            continue\n",
    "\n",
    "        locmax = True\n",
    "        for b in range(-k, k):\n",
    "            if b != 0 and y[a + b] - y[a] > epsilon:\n",
    "                locmax = False\n",
    "        if locmax:\n",
    "            spikes.append(a)\n",
    "\n",
    "    return np.array(spikes)\n",
    "\n",
    "N, EPSILON, MIN_HEIGHT = 256, 0.01, 0.5\n",
    "A, B = 200, 400\n",
    "CDIR = 'az_c'\n",
    "\n",
    "t = route.index\n",
    "y = route[CDIR].loc[A:B]\n",
    "\n",
    "ax = y.plot()\n",
    "ax.set_xlabel('Čas [s]')\n",
    "ax.set_ylabel('Zrýchlenie [m/s^2]')\n",
    "ax.set_ylim(-5, 5)\n",
    "\n",
    "S = find_peaks(y.values, N, EPSILON, MIN_HEIGHT)\n",
    "ax = ax.plot(t.values[S] + A, y.values[S], 'o', color='r')"
   ]
  },
  {
   "cell_type": "markdown",
   "id": "503db1d4",
   "metadata": {},
   "source": [
    "### Frekvenčná analýza \n",
    "$$FFT(y) \\in \\mathbb{R}^n$$ pre zvolené ohraničenie zo signálu modulované oknovou funkciou\n",
    "$$ \\vec{\\mathrm{dBFS}} = 10 \\cdot \\log_{10}\\left(\\frac{2 \\cdot \\vec{|FFT(y)|}}{\\sum{\\vec{W}}}\\right)$$"
   ]
  },
  {
   "cell_type": "code",
   "execution_count": null,
   "id": "32f5d7fd",
   "metadata": {},
   "outputs": [],
   "source": [
    "T = 8000\n",
    "N = 4096\n",
    "FS = 200             \n",
    "window = np.hamming(N)\n",
    "y = route['az'].values[T:T+N] * window\n",
    "\n",
    "spectrum = np.fft.rfft(y)                               \n",
    "magnitude = 2 * np.abs(spectrum) / np.sum(window)\n",
    "dbfs = 10 * np.log10(magnitude)                         # Premeň do signal mean power\n",
    "# dbfs = 20 * np.log10(magnitude / N)                   # Premeň do dBFS\n",
    "frequencies = np.arange((N / 2) + 1) / (float(N) / FS)\n",
    "\n",
    "plt.plot(frequencies, dbfs)\n",
    "plt.xlabel('Frekvencia [Hz]')\n",
    "plt.ylabel('Amplitúda [dB]')\n",
    "plt.ylim(dbfs.min(), 0)\n",
    "plt.grid(True)\n",
    "plt.show()"
   ]
  },
  {
   "cell_type": "markdown",
   "id": "910d950d",
   "metadata": {},
   "source": [
    "#### Algoritmus Negative Zero-Crossing\n",
    "Nájdi vo n-krát vyhladenom signále body, že platí: $f'(x) = 0$, kde $f''(x) < 0$ a $|f''(x)| > \\theta$. Pre odstránenie hraničných efektov použiť mód 'valid' s prísušným posunom hraníc polí.\n",
    "\n",
    "Diskrétna verzia:\n",
    "$$f'(x) = 0 \\; \\mathrm{(Dotyčnica)} \\implies |y_{i+k} - y_{i-k}| \\leq \\epsilon \\;\\mathrm{(Sečnica)}$$\n",
    "$$f''(x) < 0 \\implies (y_{i+k} - y_i) - (y_i - y_{i-k}) < 0$$\n",
    "$$|f''(x)| > \\theta \\implies |(y_{i+k} - y_i) - (y_i - y_{i-k})| > \\theta$$\n",
    "\n",
    "Parametre: \n",
    "- $\\epsilon$: tolerancia pre nulovú deriváciu\n",
    "- $\\theta$: strmosť druhej derivácie, čiže špicatosť vrchola\n",
    "- $k$: polovica dĺžka sečnice pre výpočet prvej derivácie\n",
    "- $n$: veľkosť konvolučného jadra\n",
    "- $smooth$: počet vyhladzovaní"
   ]
  },
  {
   "cell_type": "code",
   "execution_count": null,
   "id": "12a807ff",
   "metadata": {},
   "outputs": [],
   "source": [
    "def find_spikes_derivative(y, epsilon=0.2, slope=0.15, n=32, k=4, smooth=2):\n",
    "    for i in range(smooth):\n",
    "        y = np.convolve(y, np.ones(n) / n, mode='same')\n",
    "\n",
    "    spikes = []\n",
    "    for i in range(k, y.size - k):\n",
    "        if (abs(y[i+k] - y[i-k]) <= epsilon and\n",
    "                (y[i+k] - y[i]) - (y[i] - y[i-k]) < 0 and\n",
    "                abs((y[i+k] - y[i]) - (y[i] - y[i-k])) > slope):     \n",
    "            spikes.append(i)\n",
    "    return y, np.array(spikes)\n",
    "\n",
    "y, spikes = find_spikes_derivative(dbfs)\n",
    "\n",
    "plt.plot(frequencies, dbfs, alpha=0.5)\n",
    "plt.plot(frequencies, y)\n",
    "plt.ylim(y.min(), y.max())\n",
    "plt.grid()\n",
    "\n",
    "if spikes.size > 0:\n",
    "    plt.plot(frequencies[spikes], y[spikes], 'o', color='r')\n",
    "\n",
    "pd.DataFrame({\n",
    "    'Frekvencia [Hz]': frequencies[spikes],\n",
    "    'Pôvodná amplitútda [dB]': dbfs[spikes],\n",
    "    'Vyhladená amplitútda [dB]': y[spikes]\n",
    "}).set_index('Frekvencia [Hz]').sort_values(ascending=False, by='Pôvodná amplitútda [dB]').head(10)"
   ]
  },
  {
   "cell_type": "markdown",
   "id": "16adea0f",
   "metadata": {},
   "source": [
    "Hľadanie špičiek v spektre vyhladenom s obdĺžíkovým (mean filter) alebo trojuholníkovým oknom."
   ]
  },
  {
   "cell_type": "code",
   "execution_count": null,
   "id": "f7dd6da1",
   "metadata": {},
   "outputs": [],
   "source": [
    "KN, N, EPSILON = 32, 32, 0.01\n",
    "\n",
    "kernel = np.ones(KN) / KN   \n",
    "# kernel = np.bartlett(KN) / (KN / 2)\n",
    "y = np.convolve(dbfs, kernel, mode='valid')\n",
    "\n",
    "f = frequencies[KN//2-1:-KN//2]\n",
    "spikes = find_peaks(y, N, EPSILON)\n",
    "\n",
    "plt.plot(f, dbfs[KN//2-1:-KN//2], alpha=0.5)\n",
    "plt.plot(f, y)\n",
    "plt.plot(f[spikes], y[spikes], 'o', color='r')\n",
    "plt.grid(True)\n",
    "plt.xlabel('Frekvencia [Hz]')\n",
    "plt.ylabel('Amplitúda [dB]')\n",
    "plt.ylim(y.min(), y.max())\n",
    "\n",
    "pd.DataFrame({\n",
    "    'Frekvencia [Hz]': f[spikes],\n",
    "    'Pôvodná amplitútda [dB]': dbfs[spikes],\n",
    "    'Vyhladená amplitútda [dB]': y[spikes]\n",
    "}).set_index('Frekvencia [Hz]').sort_values(ascending=False, by='Pôvodná amplitútda [dB]').head(10)"
   ]
  },
  {
   "cell_type": "markdown",
   "id": "8202352b",
   "metadata": {},
   "source": [
    "#### Algoritmus \"horského turistu\"\n",
    "Obsahuje pamäťový efekt pre dočasné zmeny a berie ich do úvahy ak lokálne záchvevy prekročia tolerovanú úroveň. Ak sa zmení 'slope' oproti predošlému kroku DeltaY, tak hneď neoznačí za\n",
    "zmenu medzi dolinou a vrcholom, ale až po prekročení nastavených prahov. Skutočnosť z reality: jama != údolie "
   ]
  },
  {
   "cell_type": "code",
   "execution_count": null,
   "id": "d412abe7",
   "metadata": {},
   "outputs": [],
   "source": [
    "def peaks_mountain_hiker(y: np.array, tolerance=0.01, hole=5, prominence=2) -> np.array:\n",
    "    peaks = []\n",
    "    \n",
    "    i_change = 0\n",
    "    y_valley = 0\n",
    "    possible_change = False\n",
    "    uphill = (y[1] - y[0]) >= 0\n",
    "\n",
    "\n",
    "    for i in range(1, y.size):\n",
    "        y_step = y[i] - y[i-1]\n",
    "        slope = y_step >= 0\n",
    "    \n",
    "        if possible_change:\n",
    "            if uphill == slope:\n",
    "                possible_change = False\n",
    "        else:\n",
    "            if uphill != slope:\n",
    "                possible_change = True\n",
    "                i_change = i-1\n",
    "    \n",
    "        if (possible_change and\n",
    "                uphill != slope and\n",
    "                abs(i - i_change) > hole and\n",
    "                abs(y[i] - y[i_change]) > tolerance): \n",
    "\n",
    "            posible_change = False\n",
    "            prev_uphill = uphill\n",
    "            uphill = slope\n",
    "\n",
    "            if not prev_uphill and uphill:\n",
    "                y_valley = y[i_change]\n",
    "                \n",
    "            elif prev_uphill and not uphill and abs(y[i-hole] - y_valley) > prominence:\n",
    "                i_peak = i_change\n",
    "                y_peak = y[i_peak]\n",
    "                peaks.append(i_peak)\n",
    "\n",
    "    return np.array(peaks)\n",
    "\n",
    "\n",
    "N = 32\n",
    "kernel = np.ones(N) / N  \n",
    "y = np.convolve(dbfs, kernel, mode='valid')\n",
    "\n",
    "spikes = peaks_mountain_hiker(y)\n",
    "\n",
    "\n",
    "f = frequencies[KN//2-1:-KN//2]\n",
    "plt.plot(f, y)\n",
    "plt.plot(f[spikes], y[spikes], 'o', color='r')\n",
    "plt.grid(True)\n",
    "plt.xlabel('Frekvencia [Hz]')\n",
    "t = plt.ylabel('Amplitúda [dB]')\n",
    "\n",
    "pd.DataFrame({\n",
    "    'Frekvencia [Hz]': f[spikes],\n",
    "    'Pôvodná amplitútda [dB]': dbfs[spikes],\n",
    "    'Vyhladená amplitútda [dB]': y[spikes]\n",
    "}).set_index('Frekvencia [Hz]').sort_values(ascending=False, by='Pôvodná amplitútda [dB]').head(10)"
   ]
  },
  {
   "cell_type": "markdown",
   "id": "7ca91206",
   "metadata": {},
   "source": [
    "**Spektrogram** pre celý záznam: `scipy.signal.spectrogram`"
   ]
  },
  {
   "cell_type": "code",
   "execution_count": null,
   "id": "ee0ca381",
   "metadata": {},
   "outputs": [],
   "source": [
    "fs = 200\n",
    "W = 512\n",
    "f, t, Sxx = signal.spectrogram(\n",
    "    route['az_c'], fs,   \n",
    "    nperseg=W, \n",
    "    mode='magnitude', \n",
    "    window='tukey', \n",
    "    noverlap=W//8,\n",
    "    scaling='spectrum'  # density\n",
    ")  #boxcar, psd (g/Hz) magnitude (g)\n",
    "f_norm = f # np.exp(f)\n",
    "\n",
    "plt.pcolormesh(t, f_norm, Sxx, shading='gouraud')\n",
    "plt.ylabel('Frekvencia [Hz]')\n",
    "plt.xlabel('Čas [s]')\n",
    "plt.ylim(0, 20)\n",
    "plt.show()"
   ]
  },
  {
   "cell_type": "markdown",
   "id": "e0c03bb2",
   "metadata": {},
   "source": [
    "Najsilnejší frekvenčný komponent v každom okne signálu a najčastejšia frekvencia v Hz"
   ]
  },
  {
   "cell_type": "code",
   "execution_count": null,
   "id": "0aff0411",
   "metadata": {},
   "outputs": [],
   "source": [
    "peaks = np.argmax(Sxx, axis=0)\n",
    "peaks = np.take(f, peaks)\n",
    "plt.scatter(t, peaks, color='m')\n",
    "plt.ylabel('Frekvencia [Hz]')\n",
    "plt.xlabel('Čas [s]')\n",
    "plt.grid()\n",
    "\n",
    "np.median(peaks)"
   ]
  },
  {
   "cell_type": "markdown",
   "id": "09e19314",
   "metadata": {},
   "source": [
    "### DC blocking IIR filter\n",
    "https://ccrma.stanford.edu/~jos/filters/DC_Blocker.html\n",
    "$$ y_i = x_i + x_{i-1} + R \\cdot y_{i-1} $$"
   ]
  },
  {
   "cell_type": "code",
   "execution_count": null,
   "id": "ff0e67fb",
   "metadata": {},
   "outputs": [],
   "source": [
    "R = 0.9\n",
    "t = route.index\n",
    "x = route['az'].values\n",
    "\n",
    "y = [x[0]]\n",
    "for i in range(1, x.size):\n",
    "    y.append(x[i] - x[i-1] + R*y[i-1])\n",
    "y = np.array(y)\n",
    "\n",
    "plt.ylabel('Zrýchlenie [m/s^2]')\n",
    "plt.xlabel('Čas [s]')\n",
    "plt.plot(t, y)\n",
    "plt.show()"
   ]
  },
  {
   "cell_type": "markdown",
   "id": "36e18067",
   "metadata": {},
   "source": [
    "### Band-pass filter\n",
    "Pásmová priepusť pre vyfiltrovanie vybranej frekvencie. V uvedenom príklade je snaha o extrahovanie $f\\approx 23.3\\, \\mathrm{Hz}$."
   ]
  },
  {
   "cell_type": "markdown",
   "id": "00219d31",
   "metadata": {},
   "source": [
    "**Butterworth IIR filter** \n",
    "- https://docs.scipy.org/doc/scipy/reference/generated/scipy.signal.butter.html\n",
    "- https://docs.scipy.org/doc/scipy/reference/generated/scipy.signal.sosfilt.html"
   ]
  },
  {
   "cell_type": "code",
   "execution_count": null,
   "id": "321051e0",
   "metadata": {},
   "outputs": [],
   "source": [
    "y = route['az_c'].values\n",
    "peak = 23.3\n",
    "epsilon = 1\n",
    "iir_order = 16\n",
    "\n",
    "fs = 200.0\n",
    "lowcut = peak - epsilon\n",
    "highcut = peak + epsilon\n",
    "\n",
    "sos = signal.butter(N=iir_order, Wn=[lowcut, highcut], btype='bandpass', fs=fs, output='sos')\n",
    "y_iir = signal.sosfilt(sos, y)\n",
    "\n",
    "plt.xlabel('Čas [s]')\n",
    "plt.ylabel('Zrýchlenie [m/s^2]')\n",
    "plt.plot(route.index, y, alpha=0.2)\n",
    "plt.plot(route.index, y_iir)\n",
    "plt.ylim(-0.6, 0.6)\n",
    "plt.show()"
   ]
  },
  {
   "cell_type": "markdown",
   "id": "8e0dda88",
   "metadata": {},
   "source": [
    "### FIR filter\n",
    "`firwin()` vytvára filter (kernel) na základe analytického vyjadrenia impluznej odozvy pásmovej priepuste znásobený s koeficientmi oknovacej funkcie, v ukážke s `hamming` (obdĺžnik vo frekvenčnej doméne sa po FT stane sinc funkciou)\n",
    "\n",
    "$$ h(n) = \\frac{1}{\\pi n} \\cdot (\\sin(\\omega_2 n) - \\sin(\\omega_1 n)); \\; \\omega = 2\\pi f; \\; sinc(x) = \\frac{\\sin(\\pi x)}{\\pi x} $$\n",
    "\n",
    "$$ h(n) = 2f_2 \\cdot \\mathrm{sinc}(2 f_2 n) - 2f_1 \\cdot \\mathrm{sinc}(2 f_1 n) $$\n",
    "\n",
    "- https://docs.scipy.org/doc/scipy/reference/generated/scipy.signal.firwin.html\n",
    "- https://docs.scipy.org/doc/scipy/reference/generated/scipy.signal.lfilter.html\n",
    "- https://stackoverflow.com/questions/16301569/bandpass-filter-in-python\n",
    "- https://mpastell.com/2010/01/18/fir-with-scipy/"
   ]
  },
  {
   "cell_type": "code",
   "execution_count": null,
   "id": "49aca166",
   "metadata": {},
   "outputs": [],
   "source": [
    "t = route.index.values\n",
    "y = route['az_c'].values\n",
    "peak = 23.3\n",
    "epsilon = 1\n",
    "\n",
    "lowcut = peak - epsilon\n",
    "highcut = peak + epsilon\n",
    "\n",
    "fir_ntaps = 128\n",
    "window = 'hamming'\n",
    "taps = signal.firwin(fir_ntaps, [lowcut, highcut], fs=FS_HZ, pass_zero=False, window=window, scale=False)\n",
    "y_fir = signal.lfilter(taps, 1.0, x)\n",
    "\n",
    "plt.plot(t, y, alpha=0.2)\n",
    "plt.plot(t, y_fir)\n",
    "plt.ylim(-0.6, 0.6)\n",
    "plt.grid(True)"
   ]
  },
  {
   "cell_type": "markdown",
   "id": "e1a2f1e5",
   "metadata": {},
   "source": [
    "### Frekvenčná doména po filtrovaní IIR vs. FIR filtrom"
   ]
  },
  {
   "cell_type": "code",
   "execution_count": null,
   "id": "ac6ea9ee",
   "metadata": {},
   "outputs": [],
   "source": [
    "T = 8000\n",
    "N = 4096            \n",
    "window = np.hamming(N)\n",
    "y_fir_windowed = y_fir[T:T+N] * window\n",
    "y_iir_windowed = y_iir[T:T+N] * window\n",
    "\n",
    "dbfs_fir = 10 * np.log10(2 * np.abs(np.fft.rfft(y_fir_windowed)) / np.sum(window)) \n",
    "dbfs_iir = 10 * np.log10(2 * np.abs(np.fft.rfft(y_iir_windowed)) / np.sum(window)) \n",
    "\n",
    "plt.plot(frequencies, dbfs_fir, label=f'FIR (taps={fir_ntaps})')\n",
    "plt.plot(frequencies, dbfs_iir, label=f'IIR (order={iir_order})')\n",
    "plt.xlabel('Frekvencia [Hz]')\n",
    "plt.ylabel('Amplitúda [dB]')\n",
    "plt.grid(True)\n",
    "plt.legend()\n",
    "plt.show()"
   ]
  },
  {
   "cell_type": "markdown",
   "id": "8483e9a5",
   "metadata": {},
   "source": [
    "### FFT - Fast Fourier Transform\n",
    "\n",
    "Vlastnosti rôznych okien v článku: *Spectrum and spectral density estimation by DFT*"
   ]
  },
  {
   "cell_type": "code",
   "execution_count": null,
   "id": "67ca25ce",
   "metadata": {},
   "outputs": [],
   "source": [
    "W = 2048                 # Veľkosť okna\n",
    "OVERLAP = 0              # Veľkosť prekrytia okien <0; W)\n",
    "STEP = W - OVERLAP       # Posun okna na základe prekrytia\n",
    "window = signal.tukey(W) # Window function. Pre boxcar: np.ones(W)\n",
    "FS = 1 / FS_HZ           # Vzorkovacia frekvencia je 200 Hz\n",
    "\n",
    "t = route.index\n",
    "x = route['az_c'].values\n",
    "\n",
    "t = np.array([t[i] for i in range(0,  len(x) - W, STEP)])\n",
    "f = np.fft.fftfreq(W, FS)[:W//2]\n",
    "\n",
    "f_mag = np.asarray([\n",
    "    np.log(np.absolute(np.fft.fft(x[i:i+W] * window)[:W//2]))     # Logaritmický graf\n",
    "    #np.absolute(np.fft.fft(x[i:i+W] * window)[:W//2])            # Lineárny graf\n",
    "    for i in range(0, len(x) - W, STEP)\n",
    "]).T\n",
    "\n",
    "plt.pcolormesh(t, f, f_mag, shading='gouraud')\n",
    "plt.ylim(0, 100)\n",
    "plt.ylabel('Frekvencia [Hz]')\n",
    "plt.xlabel('Čas [s]')\n",
    "plt.show()"
   ]
  },
  {
   "cell_type": "markdown",
   "id": "c1848d00",
   "metadata": {},
   "source": [
    "### DCT - Discrete Cosine Transform\n",
    "$$ \\log(|\\mathrm{DCT}(\\vec{W} \\cdot [x_i, ..., x_{i+w}])|); \\; \\forall i \\in \\{0, s, 2s, ..., n\\} $$"
   ]
  },
  {
   "cell_type": "code",
   "execution_count": null,
   "id": "362c90bd",
   "metadata": {},
   "outputs": [],
   "source": [
    "W = 2048                 # Veľkosť okna\n",
    "OVERLAP = 0              # Veľkosť prekrytia okien <0; W)\n",
    "STEP = W - OVERLAP       # Posun okna na základe prekrytia\n",
    "window = signal.tukey(W) # Window function. Pre boxcar: np.ones(W)\n",
    "FS = 1/FS_HZ             # Vzorkovacia frekvencia je 200 Hz\n",
    "\n",
    "t = route.index\n",
    "x = route['az_c'].values\n",
    "\n",
    "t = np.array([t[i] for i in range(0,  len(x) - W, STEP)])\n",
    "f = np.linspace(0, 1/FS/2, W)\n",
    "f_mag = np.asarray([\n",
    "    np.log(np.abs(scipy.fft.dct(x[i:i+W], type=4)))\n",
    "    for i in range(0, len(x) - W, STEP)\n",
    "]).T\n",
    "\n",
    "plt.pcolormesh(t, f, f_mag, shading='gouraud')\n",
    "plt.ylabel('Frekvencia [Hz]')\n",
    "plt.xlabel('Čas [s]')\n",
    "plt.ylim(0, 100)\n",
    "plt.show()"
   ]
  }
 ],
 "metadata": {
  "kernelspec": {
   "display_name": "Python 3 (ipykernel)",
   "language": "python",
   "name": "python3"
  },
  "language_info": {
   "codemirror_mode": {
    "name": "ipython",
    "version": 3
   },
   "file_extension": ".py",
   "mimetype": "text/x-python",
   "name": "python",
   "nbconvert_exporter": "python",
   "pygments_lexer": "ipython3",
   "version": "3.9.7"
  }
 },
 "nbformat": 4,
 "nbformat_minor": 5
}
